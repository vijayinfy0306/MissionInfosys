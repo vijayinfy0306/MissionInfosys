{
 "cells": [
  {
   "cell_type": "code",
   "execution_count": 7,
   "metadata": {},
   "outputs": [
    {
     "name": "stdout",
     "output_type": "stream",
     "text": [
      "File Name: first.txt\n",
      "File Mode: r\n",
      "Is File Readable: True\n",
      "Is File Writeable: False\n",
      "Is File Closed: False\n",
      "Is File Closed: True\n"
     ]
    }
   ],
   "source": [
    "# FILE READBLE\n",
    "\n",
    "f=open(\"first.txt\",'r')\n",
    "print(\"File Name:\",f.name)\n",
    "print(\"File Mode:\",f.mode)\n",
    "print(\"Is File Readable:\",f.readable())\n",
    "print(\"Is File Writeable:\",f.writable())\n",
    "print(\"Is File Closed:\",f.closed)\n",
    "f.close()\n",
    "print(\"Is File Closed:\",f.closed)\n"
   ]
  },
  {
   "cell_type": "code",
   "execution_count": 9,
   "metadata": {},
   "outputs": [
    {
     "name": "stdout",
     "output_type": "stream",
     "text": [
      "Data written into the file\n"
     ]
    }
   ],
   "source": [
    "# File Writable\n",
    "\n",
    "f=open(\"second.txt\",'w')\n",
    "f.write(\"Hello\")\n",
    "f.write(\" All\")\n",
    "print(\"Data written into the file\")\n",
    "f.close()"
   ]
  }
 ],
 "metadata": {
  "kernelspec": {
   "display_name": "Python 3",
   "language": "python",
   "name": "python3"
  },
  "language_info": {
   "codemirror_mode": {
    "name": "ipython",
    "version": 3
   },
   "file_extension": ".py",
   "mimetype": "text/x-python",
   "name": "python",
   "nbconvert_exporter": "python",
   "pygments_lexer": "ipython3",
   "version": "3.7.4"
  }
 },
 "nbformat": 4,
 "nbformat_minor": 2
}
