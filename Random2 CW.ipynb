{
 "cells": [
  {
   "cell_type": "code",
   "execution_count": 1,
   "metadata": {},
   "outputs": [
    {
     "name": "stdout",
     "output_type": "stream",
     "text": [
      "Object Initilization.....\n",
      "Performing clean up Activities......\n",
      "Object Initilization.....\n",
      "Performing clean up Activities......\n"
     ]
    }
   ],
   "source": [
    "# Destructor is a special method and the name should be __del__ .\n",
    "# It is just to perform clean up activities.\n",
    "\n",
    "import time\n",
    "class Test:\n",
    "    def __init__(self):\n",
    "        print(\"Object Initilization.....\")\n",
    "    def __del__(self):\n",
    "        print(\"Performing clean up Activities......\")\n",
    "t1=Test()\n",
    "t1=None\n",
    "t2=Test()\n",
    "t2=None"
   ]
  },
  {
   "cell_type": "code",
   "execution_count": 2,
   "metadata": {},
   "outputs": [
    {
     "name": "stdout",
     "output_type": "stream",
     "text": [
      "True\n",
      "False\n",
      "True\n"
     ]
    }
   ],
   "source": [
    "# Garbage collection: The Main Objective of Garbage collector is to destroy useless objects.\n",
    "# If a object does not have any reference variable then that object eliglible for Garbage Collection\n",
    "#1. gc.isenabled() Returns True if GC enabled\n",
    "#2. gc.disable() To disable GC explicitly\n",
    "#3. gc.enable() To enable GC explicitly\n",
    "\n",
    "\n",
    "import gc\n",
    "print(gc.isenabled())\n",
    "gc.disable()\n",
    "print(gc.isenabled())\n",
    "gc.enable()\n",
    "print(gc.isenabled())"
   ]
  },
  {
   "cell_type": "code",
   "execution_count": 8,
   "metadata": {},
   "outputs": [
    {
     "name": "stdout",
     "output_type": "stream",
     "text": [
      "Sorted array is ......\n",
      "23\n",
      "24\n",
      "35\n",
      "64\n",
      "87\n"
     ]
    }
   ],
   "source": [
    "# Bubble sort\n",
    "\n",
    "def bubblesort(arr):\n",
    "    n=len(arr)\n",
    "    for i in range(n):\n",
    "        for j in range(0,n-i-1):\n",
    "            if arr[j] > arr[j+1]:\n",
    "                arr[j],arr[j+1] = arr[j+1],arr[j]\n",
    "                \n",
    "arr=[23,35,64,24,87]\n",
    "\n",
    "bubblesort(arr)\n",
    "print(\"Sorted array is ......\")\n",
    "for i in range(len(arr)):\n",
    "    print(\"%d\"%arr[i])"
   ]
  },
  {
   "cell_type": "code",
   "execution_count": 21,
   "metadata": {},
   "outputs": [
    {
     "name": "stdout",
     "output_type": "stream",
     "text": [
      "Enter the character:6\n",
      "The ASCII value of 6 = 54\n"
     ]
    }
   ],
   "source": [
    "# Find ASCII value in a character\n",
    "\n",
    "ch=input(\"Enter the character:\")\n",
    "print(\"The ASCII value of %s = %d\"%(ch,ord(ch)))"
   ]
  },
  {
   "cell_type": "code",
   "execution_count": null,
   "metadata": {},
   "outputs": [],
   "source": [
    "# ................"
   ]
  },
  {
   "cell_type": "code",
   "execution_count": 37,
   "metadata": {},
   "outputs": [
    {
     "name": "stdout",
     "output_type": "stream",
     "text": [
      "Enter a character:A\n",
      "Entered character A is a Vowel\n"
     ]
    }
   ],
   "source": [
    "# ..................................................Count vowels in a string...................................\n",
    "x=input(\"Enter a character:\")\n",
    "vowels=0\n",
    "for i in range(len(x)):\n",
    "    if (x[i]=='a' or x[i]=='e' or x[i]=='i' or x[i]=='o' or x[i]=='u' or x[i]=='A' or x[i]=='E' or x[i]=='I' or x[i]=='O' or x[i]=='U'):\n",
    "        print(\"Entered character\",x,\"is a Vowel\")\n",
    "    else:\n",
    "        print(\"Entered character\",x,\"is Not a Vowel\")"
   ]
  },
  {
   "cell_type": "code",
   "execution_count": 38,
   "metadata": {},
   "outputs": [
    {
     "name": "stdout",
     "output_type": "stream",
     "text": [
      "Enter a string:vijay\n",
      "No of vowels in a entered string is: 2\n"
     ]
    }
   ],
   "source": [
    "# ..................................................Count vowels in a string...................................\n",
    "x=input(\"Enter a string:\")\n",
    "vowels=0\n",
    "for i in x:\n",
    "    if (i=='a' or i=='e' or i=='i' or i=='o' or i=='u' or i=='A' or i=='E' or i=='I' or i=='O' or i=='U'):\n",
    "        vowels +=1\n",
    "print(\"No of vowels in a entered string is:\",vowels)"
   ]
  },
  {
   "cell_type": "code",
   "execution_count": 41,
   "metadata": {},
   "outputs": [
    {
     "name": "stdout",
     "output_type": "stream",
     "text": [
      "Hash for 181 is: 181\n",
      "Hash for 181.23 is: 530343892119126197\n",
      "Hash for -181.23 is: -530343892119126197\n"
     ]
    }
   ],
   "source": [
    "# hash(): The hash() method returns the hash value of an object if it has one.\n",
    "# Internally,hash() method calls __hash__() method of an object which are set by default for any object.\n",
    "# hash for integer unchanged\n",
    "\n",
    "print(\"Hash for 181 is:\",hash(181))\n",
    "\n",
    "print(\"Hash for 181.23 is:\",hash(181.23))\n",
    "\n",
    "print(\"Hash for -181.23 is:\",hash(-181.23))\n"
   ]
  },
  {
   "cell_type": "code",
   "execution_count": 48,
   "metadata": {},
   "outputs": [
    {
     "name": "stdout",
     "output_type": "stream",
     "text": [
      "The hash is: 3595344112212689272\n"
     ]
    }
   ],
   "source": [
    "# Usage of hash() in vowels\n",
    "\n",
    "vowels = ('a','e','i','o','u')\n",
    "print('The hash is:',hash(vowels))\n"
   ]
  },
  {
   "cell_type": "code",
   "execution_count": 57,
   "metadata": {},
   "outputs": [
    {
     "name": "stdout",
     "output_type": "stream",
     "text": [
      "The hash is:\n",
      "-7796120329406651377\n"
     ]
    }
   ],
   "source": [
    "# Usage of hash() in class\n",
    "class person:\n",
    "    def __init__(self,age,name):\n",
    "        self.age= age\n",
    "        self.name = name\n",
    "    def __hash__(self):\n",
    "        print('The hash is:')\n",
    "        return hash((self.age,self.name))\n",
    "person = person(14,'sandip')\n",
    "print(hash(person))"
   ]
  },
  {
   "cell_type": "code",
   "execution_count": 74,
   "metadata": {},
   "outputs": [
    {
     "name": "stdout",
     "output_type": "stream",
     "text": [
      "dict['Name']: Vijay\n",
      "dict['Age'] : 23\n",
      "{}\n"
     ]
    }
   ],
   "source": [
    "#...................................................Declaring a dictionary..................................................... \n",
    "\n",
    "dict={'Name':'Vijay','Age':23,'Class':'Python'}\n",
    "print(\"dict['Name']:\",dict['Name'])\n",
    "print(\"dict['Age'] :\",dict['Age'])\n",
    "dict['Age']=8\n",
    "dict['School']='SmartHive'\n",
    "del (dict['School'])            # Delete a particular element\n",
    "dict.clear()                   # Clear the fields in the dict\n",
    "del dict                      # Delete the entire dictionary\n",
    "print(dict)"
   ]
  },
  {
   "cell_type": "code",
   "execution_count": 77,
   "metadata": {},
   "outputs": [
    {
     "name": "stdout",
     "output_type": "stream",
     "text": [
      "2\n",
      "3\n",
      "sum: 5\n"
     ]
    }
   ],
   "source": [
    "print(\"sum:\",int(input())+int(input()))"
   ]
  },
  {
   "cell_type": "code",
   "execution_count": 83,
   "metadata": {},
   "outputs": [
    {
     "name": "stdout",
     "output_type": "stream",
     "text": [
      "10>20>30\n"
     ]
    }
   ],
   "source": [
    "a,b,c=10,20,30\n",
    "print(a,b,c,sep='>')"
   ]
  },
  {
   "cell_type": "code",
   "execution_count": 84,
   "metadata": {},
   "outputs": [
    {
     "name": "stdout",
     "output_type": "stream",
     "text": [
      "10\n"
     ]
    }
   ],
   "source": [
    "class Node:\n",
    "    def __init__(self,data):\n",
    "        self.left = None\n",
    "        self.right = None\n",
    "        self.data = data\n",
    "    def printtree(self):\n",
    "        print(self.data)\n",
    "root = Node(10)\n",
    "root.printtree()"
   ]
  },
  {
   "cell_type": "code",
   "execution_count": 85,
   "metadata": {},
   "outputs": [
    {
     "name": "stdout",
     "output_type": "stream",
     "text": [
      "3\n",
      "6\n",
      "7\n",
      "12\n",
      "14\n"
     ]
    }
   ],
   "source": [
    "class Node:\n",
    "\n",
    "    def __init__(self, data):\n",
    "\n",
    "        self.left = None\n",
    "        self.right = None\n",
    "        self.data = data\n",
    "\n",
    "    def insert(self, data):\n",
    "# Compare the new value with the parent node\n",
    "        if self.data:\n",
    "            if data < self.data:\n",
    "                if self.left is None:\n",
    "                    self.left = Node(data)\n",
    "                else:\n",
    "                    self.left.insert(data)\n",
    "            elif data > self.data:\n",
    "                if self.right is None:\n",
    "                    self.right = Node(data)\n",
    "                else:\n",
    "                    self.right.insert(data)\n",
    "        else:\n",
    "            self.data = data\n",
    "\n",
    "# Print the tree\n",
    "    def PrintTree(self):\n",
    "        if self.left:\n",
    "            self.left.PrintTree()\n",
    "        print( self.data),\n",
    "        if self.right:\n",
    "            self.right.PrintTree()\n",
    "\n",
    "# Use the insert method to add nodes\n",
    "root = Node(12)\n",
    "root.insert(6)\n",
    "root.insert(14)\n",
    "root.insert(3)\n",
    "root.insert(7)\n",
    "\n",
    "root.PrintTree()"
   ]
  },
  {
   "cell_type": "code",
   "execution_count": 12,
   "metadata": {},
   "outputs": [
    {
     "name": "stdout",
     "output_type": "stream",
     "text": [
      "2 3 5 7 11 13 17 19 23 29 31 37 41 43 47 53 59 61 67 71 73 79 83 89 97 "
     ]
    }
   ],
   "source": [
    "# ...........................................prime numbers......................................................................\n",
    "\n",
    "for Number in range(1,101):\n",
    "    count=0\n",
    "    for j in range(2,(Number//2+1)):\n",
    "        if(Number % j == 0):\n",
    "            count = count+ 1\n",
    "            break\n",
    "    if(Number!=1 and count==0):\n",
    "        print(Number,end=' ')\n",
    "                \n",
    "            \n",
    "            "
   ]
  },
  {
   "cell_type": "code",
   "execution_count": 6,
   "metadata": {},
   "outputs": [
    {
     "name": "stdout",
     "output_type": "stream",
     "text": [
      "2 3 5 7 11 13 17 19 23 29 31 37 41 43 47 53 59 61 67 71 73 79 83 89 97 "
     ]
    }
   ],
   "source": [
    "# ...........................................prime numbers......................................................................\n",
    "\n",
    "for Number in range(1,100):\n",
    "    count=0\n",
    "    for j in range(1,Number):\n",
    "        if(Number % j == 0):\n",
    "            count = count + 1\n",
    "    if(count==1):\n",
    "        print(Number,end=' ')\n",
    "                \n",
    "            \n",
    "            "
   ]
  },
  {
   "cell_type": "code",
   "execution_count": 10,
   "metadata": {},
   "outputs": [
    {
     "name": "stdout",
     "output_type": "stream",
     "text": [
      "3 4 5 6 7 8 9 10 11 12 13 14 "
     ]
    }
   ],
   "source": [
    "Number=15\n",
    "for i in range(3,Number):\n",
    "    print(i,end=' ')"
   ]
  }
 ],
 "metadata": {
  "kernelspec": {
   "display_name": "Python 3",
   "language": "python",
   "name": "python3"
  },
  "language_info": {
   "codemirror_mode": {
    "name": "ipython",
    "version": 3
   },
   "file_extension": ".py",
   "mimetype": "text/x-python",
   "name": "python",
   "nbconvert_exporter": "python",
   "pygments_lexer": "ipython3",
   "version": "3.7.4"
  }
 },
 "nbformat": 4,
 "nbformat_minor": 2
}
