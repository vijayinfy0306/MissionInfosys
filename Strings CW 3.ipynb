{
 "cells": [
  {
   "cell_type": "code",
   "execution_count": 1,
   "metadata": {},
   "outputs": [
    {
     "name": "stdout",
     "output_type": "stream",
     "text": [
      "S\n",
      "a\n",
      "n\n",
      "d\n",
      "i\n",
      "p\n",
      "p\n",
      "i\n",
      "d\n",
      "n\n",
      "a\n",
      "S\n"
     ]
    }
   ],
   "source": [
    "s='Sandip'\n",
    "print(s[0])\n",
    "print(s[1])\n",
    "print(s[2])\n",
    "print(s[3])\n",
    "print(s[4])\n",
    "print(s[5])\n",
    "print(s[-1])\n",
    "print(s[-2])\n",
    "print(s[-3])\n",
    "print(s[-4])\n",
    "print(s[-5])\n",
    "print(s[-6])"
   ]
  },
  {
   "cell_type": "code",
   "execution_count": 10,
   "metadata": {},
   "outputs": [],
   "source": [
    "s='This is \\' single quote symbol'\n",
    "s=\"This is ' single quote symbol\"\n",
    "s='This is \" double quotes symbol' \n",
    "s='The \\\"Python Notes\\\" by \\'sandip\\' is very helpful' \n",
    "s='''The \"Python Notes\" by 'sandip' is very helpful''' \n"
   ]
  },
  {
   "cell_type": "code",
   "execution_count": null,
   "metadata": {},
   "outputs": [],
   "source": [
    "s='This is 'single quote symbol''\n",
    "s='The \"Python Notes\" by 'sandip' is very helpful'\n",
    "s=\"The \"Python Notes\" by 'sandip' is very helpful\"\n"
   ]
  },
  {
   "cell_type": "code",
   "execution_count": 13,
   "metadata": {},
   "outputs": [
    {
     "name": "stdout",
     "output_type": "stream",
     "text": [
      "Enter String Value: vijay\n",
      "The character present in at positive end 0 and at negative end -5 is v\n",
      "The character present in at positive end 1 and at negative end -4 is i\n",
      "The character present in at positive end 2 and at negative end -3 is j\n",
      "The character present in at positive end 3 and at negative end -2 is a\n",
      "The character present in at positive end 4 and at negative end -1 is y\n"
     ]
    }
   ],
   "source": [
    "s=input(\"Enter String Value: \")\n",
    "i=0\n",
    "for x in s:\n",
    "    print(\"The character present in at positive end {} and at negative end {} is {}\".format(i,i-len(s),x))\n",
    "    i=i+1\n",
    "    "
   ]
  },
  {
   "cell_type": "code",
   "execution_count": 28,
   "metadata": {},
   "outputs": [
    {
     "data": {
      "text/plain": [
       "'LrnPh  rvya!'"
      ]
     },
     "execution_count": 28,
     "metadata": {},
     "output_type": "execute_result"
    }
   ],
   "source": [
    "s=\"Learning Python is very very easy!!!\" \n",
    "s[:-1:3]"
   ]
  },
  {
   "cell_type": "code",
   "execution_count": 8,
   "metadata": {},
   "outputs": [
    {
     "data": {
      "text/plain": [
       "'Li'"
      ]
     },
     "execution_count": 8,
     "metadata": {},
     "output_type": "execute_result"
    }
   ],
   "source": [
    "s=\"Learning Python is very very easy!!!\" \n",
    "s[0:7:5] "
   ]
  },
  {
   "cell_type": "code",
   "execution_count": 21,
   "metadata": {},
   "outputs": [
    {
     "data": {
      "text/plain": [
       "'!!!y'"
      ]
     },
     "execution_count": 21,
     "metadata": {},
     "output_type": "execute_result"
    }
   ],
   "source": [
    "s=\"Learning Python is very very easy!!!\" \n",
    "s[:-5:-1]"
   ]
  },
  {
   "cell_type": "code",
   "execution_count": 6,
   "metadata": {},
   "outputs": [
    {
     "name": "stdout",
     "output_type": "stream",
     "text": [
      "Forward Direction\n",
      "Learning Python is very very easy!!!"
     ]
    }
   ],
   "source": [
    "s=\"Learning Python is very very easy!!!\" \n",
    "print(\"Forward Direction\")\n",
    "i=0\n",
    "for i in s[::]:\n",
    "    print(i,end=\"\")"
   ]
  },
  {
   "cell_type": "code",
   "execution_count": 3,
   "metadata": {
    "scrolled": true
   },
   "outputs": [
    {
     "name": "stdout",
     "output_type": "stream",
     "text": [
      "Reverse Direction\n",
      "!!!ysae yrev yrev si nohtyP gninraeL"
     ]
    }
   ],
   "source": [
    "s=\"Learning Python is very very easy!!!\" \n",
    "print(\"Reverse Direction\")\n",
    "i=0\n",
    "for i in s[::-1]:\n",
    "    print(i,end=\"\")\n"
   ]
  },
  {
   "cell_type": "code",
   "execution_count": 5,
   "metadata": {},
   "outputs": [
    {
     "name": "stdout",
     "output_type": "stream",
     "text": [
      "Forward Direction:\n",
      "Learning Python is very very easy!!!\n",
      "Reverse Direction:\n",
      "!!!ysae yrev yrev si nohtyP gninraeL"
     ]
    }
   ],
   "source": [
    "s=\"Learning Python is very very easy!!!\" \n",
    "n=len(s)\n",
    "i=0\n",
    "print(\"Forward Direction:\")\n",
    "while(i<n):\n",
    "    print(s[i],end=\"\")\n",
    "    i=i+1\n",
    "print()\n",
    "print(\"Reverse Direction:\")\n",
    "j=-1\n",
    "while(j>=-n):\n",
    "    print(s[j],end=\"\")\n",
    "    j=j-1"
   ]
  },
  {
   "cell_type": "code",
   "execution_count": 8,
   "metadata": {},
   "outputs": [
    {
     "name": "stdout",
     "output_type": "stream",
     "text": [
      "Enter the String: python\n",
      "Python is found in s\n"
     ]
    }
   ],
   "source": [
    "s=\"Learning Python Is Very Very Easy!!!\" \n",
    "x=input(\"Enter the String: \")\n",
    "y=x.title()\n",
    "if y in s:\n",
    "    print(y,\"is found in s\")\n",
    "else:\n",
    "    print(y,\"is not found in s\")"
   ]
  },
  {
   "cell_type": "code",
   "execution_count": 7,
   "metadata": {},
   "outputs": [
    {
     "name": "stdout",
     "output_type": "stream",
     "text": [
      "Enter the Name:           BOI\n",
      "WELCOME TO BOI\n"
     ]
    }
   ],
   "source": [
    "Bank=input(\"Enter the Name: \")\n",
    "sBank=Bank.strip()\n",
    "if sBank==\"SBI\":\n",
    "    print(\"Welcome to SBI\")\n",
    "elif sBank==\"ANDHRA BANK\":\n",
    "    print(\"Welcome to ANDHRA BANK\")\n",
    "elif sBank==\"BOI\":\n",
    "    print(\"WELCOME TO BOI\")\n",
    "else:\n",
    "    print(\"NO\")\n",
    "\n"
   ]
  },
  {
   "cell_type": "code",
   "execution_count": 2,
   "metadata": {},
   "outputs": [
    {
     "name": "stdout",
     "output_type": "stream",
     "text": [
      "1\n",
      "7\n",
      "19\n",
      "13\n",
      "6\n"
     ]
    },
    {
     "data": {
      "text/plain": [
       "20"
      ]
     },
     "execution_count": 2,
     "metadata": {},
     "output_type": "execute_result"
    }
   ],
   "source": [
    "s=\"sandipravipavanshiva\" \n",
    "print(s.find('a'))\n",
    "print(s.find('a',7,15)) \n",
    "print(s.rfind('a'))\n",
    "print(s.rfind('a',12,15))\n",
    "print(s.find('ravi'))\n",
    "len(s)"
   ]
  },
  {
   "cell_type": "code",
   "execution_count": 38,
   "metadata": {},
   "outputs": [
    {
     "name": "stdout",
     "output_type": "stream",
     "text": [
      "4\n",
      "4\n",
      "1\n",
      "2\n"
     ]
    }
   ],
   "source": [
    "s=\"appleballcatdogelephantfox\"\n",
    "print(s.count('a'))\n",
    "print(s.count('l'))\n",
    "print(s.count('og'))\n",
    "print(s.count('l',5,15))"
   ]
  },
  {
   "cell_type": "code",
   "execution_count": 43,
   "metadata": {},
   "outputs": [
    {
     "name": "stdout",
     "output_type": "stream",
     "text": [
      "Learning Python is very easy\n"
     ]
    }
   ],
   "source": [
    "s=\"Learning Python is very difficult\"\n",
    "s1=s.replace(\"difficult\",\"easy\")\n",
    "print(s1)"
   ]
  },
  {
   "cell_type": "code",
   "execution_count": 53,
   "metadata": {},
   "outputs": [
    {
     "name": "stdout",
     "output_type": "stream",
     "text": [
      "sssdsssssssssssssdsd\n"
     ]
    }
   ],
   "source": [
    "s='asadsasasasasasasdad'\n",
    "s1=s.replace('a','s')\n",
    "print(s1)"
   ]
  },
  {
   "cell_type": "code",
   "execution_count": 45,
   "metadata": {},
   "outputs": [
    {
     "name": "stdout",
     "output_type": "stream",
     "text": [
      "asdasdasd is available with 2329568239920\n",
      "aadaadaad is available with 2329568224560\n"
     ]
    }
   ],
   "source": [
    "s='asdasdasd'\n",
    "s1=s.replace('s','a')\n",
    "print(s,\"is available with\",id(s))\n",
    "print(s1,\"is available with\",id(s1))"
   ]
  },
  {
   "cell_type": "code",
   "execution_count": 59,
   "metadata": {},
   "outputs": [
    {
     "name": "stdout",
     "output_type": "stream",
     "text": [
      "vijay\n",
      "is\n",
      "typing\n",
      "python\n"
     ]
    }
   ],
   "source": [
    "s=\"vijay is typing python\"\n",
    "s1=s.split()\n",
    "for i in s1:\n",
    "    print(i)"
   ]
  },
  {
   "cell_type": "code",
   "execution_count": 61,
   "metadata": {},
   "outputs": [
    {
     "name": "stdout",
     "output_type": "stream",
     "text": [
      "sssdsssssssssssssdsd\n"
     ]
    }
   ],
   "source": [
    "s='asadsasasasasasasdad'\n",
    "\n",
    "print(s.replace('a','s'))"
   ]
  },
  {
   "cell_type": "code",
   "execution_count": 77,
   "metadata": {},
   "outputs": [
    {
     "name": "stdout",
     "output_type": "stream",
     "text": [
      "22\n",
      "1\n",
      "2020\n"
     ]
    }
   ],
   "source": [
    "D='22-1-2020'\n",
    "for i in D.split('-'):\n",
    "    print(i)"
   ]
  },
  {
   "cell_type": "code",
   "execution_count": 79,
   "metadata": {},
   "outputs": [
    {
     "name": "stdout",
     "output_type": "stream",
     "text": [
      "['22', '1', '2020']\n",
      "['22', '1', '2020']\n",
      "['22', '1', '2020']\n"
     ]
    }
   ],
   "source": [
    "D='22-1-2020'\n",
    "for i in D.split('-'):\n",
    "    print(D.split('-'))"
   ]
  },
  {
   "cell_type": "code",
   "execution_count": 83,
   "metadata": {},
   "outputs": [
    {
     "name": "stdout",
     "output_type": "stream",
     "text": [
      "sunny-bunny-chinny\n"
     ]
    }
   ],
   "source": [
    "t=['sunny','bunny','chinny']\n",
    "s='-'.join(t) \n",
    "print(s) \n"
   ]
  },
  {
   "cell_type": "code",
   "execution_count": 87,
   "metadata": {},
   "outputs": [
    {
     "name": "stdout",
     "output_type": "stream",
     "text": [
      "london:dubai:singapore:hyderabad\n"
     ]
    }
   ],
   "source": [
    "l={'hyderabad','singapore','london','dubai'}\n",
    "s=':'.join(l) \n",
    "print(s) \n"
   ]
  },
  {
   "cell_type": "code",
   "execution_count": 89,
   "metadata": {},
   "outputs": [
    {
     "name": "stdout",
     "output_type": "stream",
     "text": [
      "VIJAY IS TYPING PYTHON\n",
      "vijay is typing python\n",
      "Vijay is typing python\n",
      "Vijay Is Typing Python\n",
      "VIJAY IS TYPING PYTHON\n"
     ]
    }
   ],
   "source": [
    "s=\"vijay is typing python\"\n",
    "print(s.upper())\n",
    "print(s.lower())\n",
    "print(s.capitalize())\n",
    "print(s.title())\n",
    "print(s.swapcase())"
   ]
  },
  {
   "cell_type": "code",
   "execution_count": 26,
   "metadata": {},
   "outputs": [
    {
     "name": "stdout",
     "output_type": "stream",
     "text": [
      "True\n",
      "False\n",
      "True\n"
     ]
    }
   ],
   "source": [
    "s=\"Vijay is typing python\"\n",
    "a=s.lower()\n",
    "print(a.startswith(\"vijay\"))\n",
    "print(a.endswith(\"java\"))\n",
    "print(a.endswith(\"python\"))\n"
   ]
  },
  {
   "cell_type": "code",
   "execution_count": 36,
   "metadata": {},
   "outputs": [
    {
     "name": "stdout",
     "output_type": "stream",
     "text": [
      "True\n",
      "False\n",
      "True\n",
      "False\n",
      "True\n",
      "False\n",
      "False\n",
      "False\n"
     ]
    }
   ],
   "source": [
    "print('sandip'.isalnum())\n",
    "print('sandip3443'.isalpha())\n",
    "print('3443'.isalnum())\n",
    "print('sandip1'.isalpha())\n",
    "print(\"learning python is very easy\".islower())\n",
    "print(\"learning python is very easy\".isupper())\n",
    "print(\"learning python is very easy\".istitle())\n",
    "print(\"learning python is very easy\".isspace())"
   ]
  },
  {
   "cell_type": "code",
   "execution_count": 43,
   "metadata": {},
   "outputs": [
    {
     "name": "stdout",
     "output_type": "stream",
     "text": [
      "Enter any character: \n",
      "It is space character\n"
     ]
    }
   ],
   "source": [
    "s=input(\"Enter any character:\") \n",
    "if s.isalnum(): \n",
    "    print(\"Alpha Numeric Character\") \n",
    "    if s.isalpha(): \n",
    "        print(\"Alphabet character\") \n",
    "        if s.islower(): \n",
    "            print(\"Lower case alphabet character\") \n",
    "        else: \n",
    "            print(\"Upper case alphabet character\") \n",
    "    else: \n",
    "        print(\"it is a digit\") \n",
    "elif s.isspace(): \n",
    "    print(\"It is space character\") \n",
    "else:\n",
    "    print(\"Non Space Special Character\") \n",
    " \n"
   ]
  },
  {
   "cell_type": "code",
   "execution_count": 44,
   "metadata": {},
   "outputs": [
    {
     "name": "stdout",
     "output_type": "stream",
     "text": [
      "Enter the name: vijay\n",
      "Enter the salary: 100000\n",
      "Enter the age: 30\n",
      "vijay is earning 100000 of age 30\n"
     ]
    }
   ],
   "source": [
    "name=input(\"Enter the name: \")\n",
    "salary=int(input(\"Enter the salary: \"))\n",
    "age=int(input(\"Enter the age: \"))\n",
    "print(\"{} is earning {} of age {}\".format(name,salary,age))"
   ]
  },
  {
   "cell_type": "code",
   "execution_count": 23,
   "metadata": {},
   "outputs": [
    {
     "name": "stdout",
     "output_type": "stream",
     "text": [
      "Enter the name: hello is calling\n",
      "gnillac si olleh\n"
     ]
    }
   ],
   "source": [
    "name=input(\"Enter the name: \")\n",
    "print(''.join(reversed(name)))"
   ]
  },
  {
   "cell_type": "code",
   "execution_count": 50,
   "metadata": {},
   "outputs": [
    {
     "name": "stdout",
     "output_type": "stream",
     "text": [
      "Enter the name: vijay\n",
      "yajiv\n"
     ]
    }
   ],
   "source": [
    "name=input(\"Enter the name: \")\n",
    "print(name[::-1])"
   ]
  },
  {
   "cell_type": "code",
   "execution_count": 57,
   "metadata": {},
   "outputs": [
    {
     "name": "stdout",
     "output_type": "stream",
     "text": [
      "Enter the name: VIJAY\n",
      "yajiv\n"
     ]
    }
   ],
   "source": [
    "name=input(\"Enter the name: \")\n",
    "n=len(name)\n",
    "i=n-1\n",
    "rev=''\n",
    "while(i>=0):\n",
    "    rev=rev+name[i]\n",
    "    i=i-1\n",
    "s=rev\n",
    "print(s.lower())    \n",
    "    "
   ]
  },
  {
   "cell_type": "code",
   "execution_count": 7,
   "metadata": {},
   "outputs": [
    {
     "name": "stdout",
     "output_type": "stream",
     "text": [
      "Enter the name: your name\n",
      "name your\n"
     ]
    }
   ],
   "source": [
    "name=input(\"Enter the name: \")\n",
    "r=name.split()\n",
    "i=len(r)-1\n",
    "rev=[]\n",
    "while(i>=0):\n",
    "    rev.append(r[i])\n",
    "    i=i-1\n",
    "    output=(' '.join(rev))\n",
    "print(output)    "
   ]
  },
  {
   "cell_type": "code",
   "execution_count": 77,
   "metadata": {},
   "outputs": [
    {
     "name": "stdout",
     "output_type": "stream",
     "text": [
      "Enter a value: 5\n",
      "Enter b value: 8\n",
      "smallest number is: 5\n"
     ]
    }
   ],
   "source": [
    "a=int(input(\"Enter a value: \"))\n",
    "b=int(input(\"Enter b value: \"))\n",
    "if(a<b):\n",
    "    print(\"smallest number is:\",a)\n",
    "else:\n",
    "    print(\"smallest number is:\",b)\n"
   ]
  },
  {
   "cell_type": "markdown",
   "metadata": {},
   "source": [
    "a=int(input(\"Enter a value: \"))\n",
    "b=int(input(\"Enter b value: \"))\n",
    "c=int(input(\"Enter c value: \"))\n",
    "if((a<b) and (a<c)):\n",
    "    print(\"smallest number is:\",a)\n",
    "elif(b<c):\n",
    "    print(\"smallest number is:\",b)\n",
    "else:\n",
    "    print(\"smallest value is:\",c)"
   ]
  },
  {
   "cell_type": "code",
   "execution_count": 88,
   "metadata": {},
   "outputs": [
    {
     "name": "stdout",
     "output_type": "stream",
     "text": [
      "Enter a value: 2\n",
      "Enter b value: 1\n",
      "Enter c value: 3\n",
      "smallest number is b: 1\n"
     ]
    }
   ],
   "source": [
    "a=int(input(\"Enter a value: \"))\n",
    "b=int(input(\"Enter b value: \"))\n",
    "c=int(input(\"Enter c value: \"))\n",
    "if((a<b) and (a<c)):\n",
    "    print(\"smallest number is a:\",a)\n",
    "elif(b<c):\n",
    "    print(\"smallest number is b:\",b)\n",
    "else:\n",
    "    print(\"smallest value is c:\",c)"
   ]
  },
  {
   "cell_type": "code",
   "execution_count": 90,
   "metadata": {},
   "outputs": [
    {
     "name": "stdout",
     "output_type": "stream",
     "text": [
      "Enter a value: 4\n",
      "Even number is:  4\n"
     ]
    }
   ],
   "source": [
    "a=int(input(\"Enter a value: \"))\n",
    "if(a%2==0):\n",
    "    print(\"Even number is: \",a)\n",
    "else:\n",
    "    print(\"odd number is: \",a)"
   ]
  },
  {
   "cell_type": "code",
   "execution_count": 97,
   "metadata": {},
   "outputs": [
    {
     "name": "stdout",
     "output_type": "stream",
     "text": [
      "Enter a value: 200\n",
      "Not in a limit\n"
     ]
    }
   ],
   "source": [
    "a=int(input(\"Enter a value: \"))\n",
    "if a>=1 and a<=100:\n",
    "    print(\"In between 0 to 100\")\n",
    "else:\n",
    "    print(\"Not in a limit\")"
   ]
  },
  {
   "cell_type": "code",
   "execution_count": 6,
   "metadata": {},
   "outputs": [
    {
     "name": "stdout",
     "output_type": "stream",
     "text": [
      "Enter a value: 1\n",
      "In between 0 to 100\n"
     ]
    }
   ],
   "source": [
    "a=int(input(\"Enter a value: \"))\n",
    "for i in range(1,100):\n",
    "    if(i==a):\n",
    "        print(\"In between 0 to 100\")\n",
    "        break\n",
    "else:\n",
    "    print(\"Not in range\")"
   ]
  },
  {
   "cell_type": "code",
   "execution_count": 9,
   "metadata": {},
   "outputs": [
    {
     "name": "stdout",
     "output_type": "stream",
     "text": [
      "Enter a value: 102\n",
      "False\n"
     ]
    }
   ],
   "source": [
    "a=int(input(\"Enter a value: \"))\n",
    "s=[x for x in range(0,101)]\n",
    "print(a in s)"
   ]
  },
  {
   "cell_type": "code",
   "execution_count": 17,
   "metadata": {},
   "outputs": [
    {
     "name": "stdout",
     "output_type": "stream",
     "text": [
      "Enter the string: vijay is typing\n",
      "gnipyt si yajiv\n"
     ]
    }
   ],
   "source": [
    "name=input(\"Enter the string: \")\n",
    "s=name.split()\n",
    "i=len(s)-1\n",
    "rev=[]\n",
    "while(i>=0):\n",
    "    rev.append(s[i][::-1])\n",
    "    i=i-1\n",
    "    output=(' '.join(rev))\n",
    "print(output)"
   ]
  },
  {
   "cell_type": "code",
   "execution_count": 29,
   "metadata": {},
   "outputs": [
    {
     "name": "stdout",
     "output_type": "stream",
     "text": [
      "Enter the string: vijay is singing\n",
      "yajiv si gnignis\n"
     ]
    }
   ],
   "source": [
    "name=input(\"Enter the string: \")\n",
    "s=name.split()\n",
    "rev=[]\n",
    "i=0\n",
    "while(i<=(len(s)-1)):\n",
    "    rev.append(s[i][::-1])\n",
    "    i=i+1\n",
    "    output=(' '.join(rev))\n",
    "print(output)"
   ]
  },
  {
   "cell_type": "code",
   "execution_count": 1,
   "metadata": {},
   "outputs": [
    {
     "name": "stdout",
     "output_type": "stream",
     "text": [
      "2\n"
     ]
    }
   ],
   "source": [
    "# usage of COUNT\n",
    "\n",
    "x=\"my Name Is\"\n",
    "print(x.count('m'))"
   ]
  },
  {
   "cell_type": "code",
   "execution_count": 2,
   "metadata": {},
   "outputs": [
    {
     "name": "stdout",
     "output_type": "stream",
     "text": [
      "my name is\n"
     ]
    }
   ],
   "source": [
    "# usage of CASEFOLD\n",
    "\n",
    "x=\"my Name Is\"\n",
    "print(x.casefold())  # Casefold is same as lower()"
   ]
  },
  {
   "cell_type": "code",
   "execution_count": 3,
   "metadata": {},
   "outputs": [
    {
     "name": "stdout",
     "output_type": "stream",
     "text": [
      "My name is\n"
     ]
    }
   ],
   "source": [
    "# usage of CAPITALIZE\n",
    "\n",
    "x=\"my Name Is\"\n",
    "print(x.capitalize())  # String starts with capital letter"
   ]
  },
  {
   "cell_type": "code",
   "execution_count": 7,
   "metadata": {},
   "outputs": [
    {
     "name": "stdout",
     "output_type": "stream",
     "text": [
      "     my Name Is     \n"
     ]
    }
   ],
   "source": [
    "# usage of CENTER\n",
    "\n",
    "x=\"my Name Is\"\n",
    "print(x.center(20)) # Adjust the string to center depends on value the given in center "
   ]
  },
  {
   "cell_type": "code",
   "execution_count": 9,
   "metadata": {},
   "outputs": [
    {
     "name": "stdout",
     "output_type": "stream",
     "text": [
      "@@@@ my Name Is @@@@\n"
     ]
    }
   ],
   "source": [
    "# usage of CENTER\n",
    "\n",
    "x=\" my Name Is \"\n",
    "print(x.center(20,'@'))"
   ]
  },
  {
   "cell_type": "code",
   "execution_count": 4,
   "metadata": {},
   "outputs": [
    {
     "name": "stdout",
     "output_type": "stream",
     "text": [
      "b' my Name Is vijay '\n"
     ]
    }
   ],
   "source": [
    "# usage of ENCODE\n",
    "\n",
    "x=\" my Name Is vijay \"\n",
    "y=x.encode()\n",
    "print(y)"
   ]
  },
  {
   "cell_type": "code",
   "execution_count": 8,
   "metadata": {},
   "outputs": [
    {
     "name": "stdout",
     "output_type": "stream",
     "text": [
      "True\n"
     ]
    }
   ],
   "source": [
    "# usage of ENDSWITH\n",
    "\n",
    "x=\" my Name Is vijay.\"\n",
    "y=x.endswith(\".\")\n",
    "print(y)"
   ]
  },
  {
   "cell_type": "code",
   "execution_count": 9,
   "metadata": {},
   "outputs": [
    {
     "name": "stdout",
     "output_type": "stream",
     "text": [
      "False\n"
     ]
    }
   ],
   "source": [
    "# usage of ENDSWITH\n",
    "\n",
    "x=\" my Name Is vijay\"\n",
    "y=x.endswith(\".\")\n",
    "print(y)"
   ]
  },
  {
   "cell_type": "code",
   "execution_count": 19,
   "metadata": {},
   "outputs": [
    {
     "name": "stdout",
     "output_type": "stream",
     "text": [
      "H\te\tl\tl\to\n"
     ]
    }
   ],
   "source": [
    "# usage of EXPAND\n",
    "\n",
    "x=\"H\\te\\tl\\tl\\to\"\n",
    "#y=x.expandtabs()\n",
    "print(x)"
   ]
  },
  {
   "cell_type": "code",
   "execution_count": 23,
   "metadata": {},
   "outputs": [
    {
     "name": "stdout",
     "output_type": "stream",
     "text": [
      "H e l l o\n"
     ]
    }
   ],
   "source": [
    "# usage of EXPAND\n",
    "\n",
    "x=\"H\\te\\tl\\tl\\to\"\n",
    "y=x.expandtabs(2)\n",
    "print(y)"
   ]
  },
  {
   "cell_type": "code",
   "execution_count": 20,
   "metadata": {},
   "outputs": [
    {
     "name": "stdout",
     "output_type": "stream",
     "text": [
      "H       e       l       l       o\n"
     ]
    }
   ],
   "source": [
    "# usage of EXPAND\n",
    "\n",
    "x=\"H\\te\\tl\\tl\\to\"\n",
    "y=x.expandtabs()\n",
    "print(y)"
   ]
  },
  {
   "cell_type": "code",
   "execution_count": 25,
   "metadata": {},
   "outputs": [
    {
     "name": "stdout",
     "output_type": "stream",
     "text": [
      "6\n"
     ]
    }
   ],
   "source": [
    "# FIND usage\n",
    "\n",
    "x=\"Hello All Welcome\"\n",
    "y=x.find(\"All\")\n",
    "print(y)"
   ]
  },
  {
   "cell_type": "code",
   "execution_count": 24,
   "metadata": {},
   "outputs": [
    {
     "name": "stdout",
     "output_type": "stream",
     "text": [
      "The price of a item is 45\n"
     ]
    }
   ],
   "source": [
    "# USAGE of FORMAT\n",
    "\n",
    "x=\"The price of a item is {price}\"\n",
    "print(x.format(price=45))"
   ]
  },
  {
   "cell_type": "code",
   "execution_count": 33,
   "metadata": {},
   "outputs": [
    {
     "name": "stdout",
     "output_type": "stream",
     "text": [
      "True\n"
     ]
    }
   ],
   "source": [
    "# USAGE of ISALPHA\n",
    "\n",
    "x=\"Hello All Welcome\"\n",
    "y=x.isalpha()\n",
    "print(y)"
   ]
  },
  {
   "cell_type": "code",
   "execution_count": 35,
   "metadata": {},
   "outputs": [
    {
     "name": "stdout",
     "output_type": "stream",
     "text": [
      "True\n"
     ]
    }
   ],
   "source": [
    "# USAGE of ISNUM\n",
    "\n",
    "x=\"abc123\"\n",
    "y=x.isalnum()\n",
    "print(y)"
   ]
  },
  {
   "cell_type": "code",
   "execution_count": 37,
   "metadata": {},
   "outputs": [
    {
     "name": "stdout",
     "output_type": "stream",
     "text": [
      "True\n"
     ]
    }
   ],
   "source": [
    "# USAGE of DECIMAL\n",
    "\n",
    "x=\"123\"\n",
    "y=x.isdecimal()\n",
    "print(y)"
   ]
  },
  {
   "cell_type": "code",
   "execution_count": 39,
   "metadata": {},
   "outputs": [
    {
     "name": "stdout",
     "output_type": "stream",
     "text": [
      "True\n"
     ]
    }
   ],
   "source": [
    "# USAGE of ISDIGIT\n",
    "\n",
    "x=\"123\"\n",
    "y=x.isdigit()\n",
    "print(y)"
   ]
  },
  {
   "cell_type": "code",
   "execution_count": 40,
   "metadata": {},
   "outputs": [
    {
     "name": "stdout",
     "output_type": "stream",
     "text": [
      "False\n"
     ]
    }
   ],
   "source": [
    "# USAGE of ISlower\n",
    "\n",
    "x=\"Hello All Welcome\"\n",
    "y=x.islower()\n",
    "print(y)"
   ]
  },
  {
   "cell_type": "code",
   "execution_count": 41,
   "metadata": {},
   "outputs": [
    {
     "name": "stdout",
     "output_type": "stream",
     "text": [
      "hello all welcome\n"
     ]
    }
   ],
   "source": [
    "# USAGE of LOWER\n",
    "\n",
    "x=\"Hello All Welcome\"\n",
    "y=x.lower()\n",
    "print(y)"
   ]
  },
  {
   "cell_type": "code",
   "execution_count": 42,
   "metadata": {},
   "outputs": [
    {
     "name": "stdout",
     "output_type": "stream",
     "text": [
      "False\n"
     ]
    }
   ],
   "source": [
    "# USAGE of ISupper\n",
    "\n",
    "x=\"Hello All Welcome\"\n",
    "y=x.isupper()\n",
    "print(y)"
   ]
  },
  {
   "cell_type": "code",
   "execution_count": 43,
   "metadata": {},
   "outputs": [
    {
     "name": "stdout",
     "output_type": "stream",
     "text": [
      "HELLO ALL WELCOME\n"
     ]
    }
   ],
   "source": [
    "# USAGE of UPPER\n",
    "\n",
    "x=\"Hello All Welcome\"\n",
    "y=x.upper()\n",
    "print(y)"
   ]
  },
  {
   "cell_type": "code",
   "execution_count": 44,
   "metadata": {},
   "outputs": [
    {
     "name": "stdout",
     "output_type": "stream",
     "text": [
      "True\n"
     ]
    }
   ],
   "source": [
    "# USAGE of ISPRINTABLE\n",
    "\n",
    "x=\"Hello All Welcome\"\n",
    "y=x.isprintable()\n",
    "print(y)"
   ]
  },
  {
   "cell_type": "code",
   "execution_count": 48,
   "metadata": {},
   "outputs": [
    {
     "name": "stdout",
     "output_type": "stream",
     "text": [
      "False\n"
     ]
    }
   ],
   "source": [
    "# USAGE of ISSPACE\n",
    "\n",
    "x=\"Hello All Welcome\"\n",
    "y=x.isspace()\n",
    "print(y)"
   ]
  },
  {
   "cell_type": "code",
   "execution_count": 49,
   "metadata": {},
   "outputs": [
    {
     "name": "stdout",
     "output_type": "stream",
     "text": [
      "True\n"
     ]
    }
   ],
   "source": [
    "# USAGE of ISSPACE\n",
    "\n",
    "x=\"  \"\n",
    "y=x.isspace()\n",
    "print(y)"
   ]
  },
  {
   "cell_type": "code",
   "execution_count": 51,
   "metadata": {},
   "outputs": [
    {
     "name": "stdout",
     "output_type": "stream",
     "text": [
      "False\n"
     ]
    }
   ],
   "source": [
    "# USAGE of ISTITLE\n",
    "\n",
    "x=\"Hello All Welcome\"\n",
    "y=x.istitle()\n",
    "print(y)"
   ]
  },
  {
   "cell_type": "code",
   "execution_count": 57,
   "metadata": {},
   "outputs": [
    {
     "name": "stdout",
     "output_type": "stream",
     "text": [
      "Hello @ All @ Welcome\n"
     ]
    }
   ],
   "source": [
    "# USAGE of JOIN\n",
    "\n",
    "x=[\"Hello \", \" All \", \" Welcome\"]\n",
    "y='@'.join(x)\n",
    "print(y)"
   ]
  },
  {
   "cell_type": "code",
   "execution_count": 63,
   "metadata": {},
   "outputs": [
    {
     "name": "stdout",
     "output_type": "stream",
     "text": [
      "Banana               is the best fruit:\n"
     ]
    }
   ],
   "source": [
    "# USAGE of ljust\n",
    "\n",
    "x=\"Banana\"\n",
    "y=x.ljust(20)\n",
    "print(y,\"is the best fruit:\")"
   ]
  },
  {
   "cell_type": "code",
   "execution_count": 74,
   "metadata": {},
   "outputs": [
    {
     "name": "stdout",
     "output_type": "stream",
     "text": [
      "              Banana is the best fruit:\n"
     ]
    }
   ],
   "source": [
    "# USAGE of Rjust\n",
    "\n",
    "x=\"Banana\"\n",
    "y=x.rjust(20)\n",
    "print(y,\"is the best fruit:\")"
   ]
  },
  {
   "cell_type": "code",
   "execution_count": 65,
   "metadata": {},
   "outputs": [
    {
     "name": "stdout",
     "output_type": "stream",
     "text": [
      "('Hello ', 'All', ' Welcome')\n"
     ]
    }
   ],
   "source": [
    "# USAGE of PARTITION\n",
    "\n",
    "x=\"Hello All Welcome\"\n",
    "y=x.partition(\"All\")\n",
    "print(y)"
   ]
  },
  {
   "cell_type": "code",
   "execution_count": 73,
   "metadata": {},
   "outputs": [
    {
     "name": "stdout",
     "output_type": "stream",
     "text": [
      "('Hello ', 'All', ' Welcome')\n"
     ]
    }
   ],
   "source": [
    "# USAGE of RPARTITION\n",
    "\n",
    "x=\"Hello All Welcome\"\n",
    "y=x.rpartition(\"All\")\n",
    "print(y)"
   ]
  },
  {
   "cell_type": "code",
   "execution_count": 66,
   "metadata": {},
   "outputs": [
    {
     "name": "stdout",
     "output_type": "stream",
     "text": [
      "Hello All \n"
     ]
    }
   ],
   "source": [
    "# USAGE of REPLACE\n",
    "\n",
    "x=\"Hello All Welcome\"\n",
    "y=x.replace(\"Welcome\",\"\")\n",
    "print(y)"
   ]
  },
  {
   "cell_type": "code",
   "execution_count": 69,
   "metadata": {},
   "outputs": [
    {
     "name": "stdout",
     "output_type": "stream",
     "text": [
      "22\n",
      "19\n"
     ]
    }
   ],
   "source": [
    "# RFIND usage\n",
    "\n",
    "x=\"Hello All. Welcome All\"\n",
    "y=x.rfind(\"All\")\n",
    "print(len(x))\n",
    "print(y)"
   ]
  },
  {
   "cell_type": "code",
   "execution_count": 70,
   "metadata": {},
   "outputs": [
    {
     "name": "stdout",
     "output_type": "stream",
     "text": [
      "19\n"
     ]
    }
   ],
   "source": [
    "# Rindex usage\n",
    "\n",
    "x=\"Hello All. Welcome All\"\n",
    "y=x.rindex(\"All\")\n",
    "print(y)"
   ]
  },
  {
   "cell_type": "code",
   "execution_count": 80,
   "metadata": {},
   "outputs": [
    {
     "name": "stdout",
     "output_type": "stream",
     "text": [
      "['Banana', 'is', 'a', 'best', 'fruit']\n"
     ]
    }
   ],
   "source": [
    "# USAGE of Rsplit\n",
    "\n",
    "x=\"Banana is a best fruit\"\n",
    "y=x.rsplit(\" \")\n",
    "print(y)"
   ]
  },
  {
   "cell_type": "code",
   "execution_count": 77,
   "metadata": {},
   "outputs": [
    {
     "name": "stdout",
     "output_type": "stream",
     "text": [
      "['Banana', 'is', 'a', 'best', 'fruit']\n"
     ]
    }
   ],
   "source": [
    "# USAGE of split\n",
    "\n",
    "x=\"Banana is a best fruit\"\n",
    "y=x.split(\" \")\n",
    "print(y)"
   ]
  },
  {
   "cell_type": "code",
   "execution_count": 82,
   "metadata": {},
   "outputs": [
    {
     "name": "stdout",
     "output_type": "stream",
     "text": [
      "Banana is a best fruit\n"
     ]
    }
   ],
   "source": [
    "# USAGE of STRIP\n",
    "\n",
    "x=\"         Banana is a best fruit \"\n",
    "y=x.strip()\n",
    "print(y)"
   ]
  },
  {
   "cell_type": "code",
   "execution_count": 86,
   "metadata": {},
   "outputs": [
    {
     "name": "stdout",
     "output_type": "stream",
     "text": [
      "         Banana is a best fruit\n"
     ]
    }
   ],
   "source": [
    "# USAGE of RSTRIP\n",
    "\n",
    "x=\"         Banana is a best fruit           \"\n",
    "y=x.rstrip()\n",
    "print(y)"
   ]
  },
  {
   "cell_type": "code",
   "execution_count": 85,
   "metadata": {},
   "outputs": [
    {
     "name": "stdout",
     "output_type": "stream",
     "text": [
      "Banana is a best fruit           \n"
     ]
    }
   ],
   "source": [
    "# USAGE of LSTRIP\n",
    "\n",
    "x=\"         Banana is a best fruit           \"\n",
    "y=x.lstrip()\n",
    "print(y)"
   ]
  },
  {
   "cell_type": "code",
   "execution_count": 88,
   "metadata": {},
   "outputs": [
    {
     "name": "stdout",
     "output_type": "stream",
     "text": [
      "['Banana is a', 'best fruit']\n"
     ]
    }
   ],
   "source": [
    "# USAGE of splitlines\n",
    "\n",
    "x=\"Banana is a\\nbest fruit\"\n",
    "y=x.splitlines()\n",
    "print(y)"
   ]
  },
  {
   "cell_type": "code",
   "execution_count": 89,
   "metadata": {},
   "outputs": [
    {
     "name": "stdout",
     "output_type": "stream",
     "text": [
      "True\n"
     ]
    }
   ],
   "source": [
    "# USAGE of startswith\n",
    "\n",
    "x=\"Banana is a best fruit\"\n",
    "y=x.startswith(\"Banana\")\n",
    "print(y)"
   ]
  },
  {
   "cell_type": "code",
   "execution_count": 90,
   "metadata": {},
   "outputs": [
    {
     "name": "stdout",
     "output_type": "stream",
     "text": [
      "bANANA IS A BEST FRUIT\n"
     ]
    }
   ],
   "source": [
    "# USAGE of swapcase\n",
    "\n",
    "x=\"Banana is a best fruit\"\n",
    "y=x.swapcase()\n",
    "print(y)"
   ]
  },
  {
   "cell_type": "code",
   "execution_count": 98,
   "metadata": {},
   "outputs": [
    {
     "name": "stdout",
     "output_type": "stream",
     "text": [
      "0000000000000000000000000000Banana is a best fruit\n"
     ]
    }
   ],
   "source": [
    "# USAGE of zfill\n",
    "\n",
    "x=\"Banana is a best fruit\"\n",
    "y=x.zfill(50)\n",
    "print(y)"
   ]
  }
 ],
 "metadata": {
  "kernelspec": {
   "display_name": "Python 3",
   "language": "python",
   "name": "python3"
  },
  "language_info": {
   "codemirror_mode": {
    "name": "ipython",
    "version": 3
   },
   "file_extension": ".py",
   "mimetype": "text/x-python",
   "name": "python",
   "nbconvert_exporter": "python",
   "pygments_lexer": "ipython3",
   "version": "3.7.4"
  }
 },
 "nbformat": 4,
 "nbformat_minor": 2
}
