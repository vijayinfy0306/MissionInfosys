{
 "cells": [
  {
   "cell_type": "code",
   "execution_count": 16,
   "metadata": {},
   "outputs": [
    {
     "name": "stdout",
     "output_type": "stream",
     "text": [
      "\n",
      "Enter the employee No:1\n",
      "Enter the employee Name:lkjhg\n",
      "Enter the employee Address:sd\n",
      "Enter the employee Salary:1000\n",
      "Enter the Housing Allowances:10\n",
      "Enter the Daily Allowances:10\n",
      "Employee No: 1 \n",
      "Employee Name: lkjhg \n",
      "Address: sd\n",
      "Employee Salary: 1000 \n",
      "Housing Allowances: 10 \n",
      "Daily Allowances: 10 \n",
      "Gross Salary: 980\n",
      "CTC: 12000\n",
      "\n",
      "Enter the employee No:2\n",
      "Enter the employee Name:wds\n",
      "Enter the employee Address:dsa\n",
      "Enter the employee Salary:2000\n",
      "Enter the Housing Allowances:10\n",
      "Enter the Daily Allowances:10\n",
      "Employee No: 2 \n",
      "Employee Name: wds \n",
      "Address: dsa\n",
      "Employee Salary: 2000 \n",
      "Housing Allowances: 10 \n",
      "Daily Allowances: 10 \n",
      "Gross Salary: 1980\n",
      "CTC: 24000\n"
     ]
    }
   ],
   "source": [
    "class employee:\n",
    "    def __init__(self,empno,name,address):\n",
    "        self.empno=empno\n",
    "        self.name=name\n",
    "        self.address=address\n",
    "    def display(self):\n",
    "        print(\"Employee No:\",self.empno,\"\\nEmployee Name:\",self.name,\"\\nAddress:\",self.address)\n",
    "class empsalary(employee):\n",
    "    def __init__(self,empno,name,address,salary,hra,da):\n",
    "        super().__init__(empno,name,address)\n",
    "        self.salary=salary\n",
    "        self.hra=hra\n",
    "        self.da=da\n",
    "        self.gross=self.salary-(self.hra+self.da)\n",
    "        self.ctc=self.salary*12\n",
    "    def display1(self):\n",
    "        print(\"Employee Salary:\",self.salary,\"\\nHousing Allowances:\",self.hra,\"\\nDaily Allowances:\",self.da,\"\\nGross Salary:\",self.gross)\n",
    "        print(\"CTC:\",self.ctc)\n",
    "\n",
    "for i in range(0,2):\n",
    "    print()\n",
    "    x=int(input(\"Enter the employee No:\"))\n",
    "    y=(input(\"Enter the employee Name:\"))\n",
    "    z=(input(\"Enter the employee Address:\"))\n",
    "    a=int(input(\"Enter the employee Salary:\"))\n",
    "    b=int(input(\"Enter the Housing Allowances:\"))\n",
    "    c=int(input(\"Enter the Daily Allowances:\"))\n",
    "\n",
    "    e=empsalary(x,y,z,a,b,c)\n",
    "    e.display()\n",
    "    e.display1()\n",
    "\n",
    "        \n",
    "        "
   ]
  }
 ],
 "metadata": {
  "kernelspec": {
   "display_name": "Python 3",
   "language": "python",
   "name": "python3"
  },
  "language_info": {
   "codemirror_mode": {
    "name": "ipython",
    "version": 3
   },
   "file_extension": ".py",
   "mimetype": "text/x-python",
   "name": "python",
   "nbconvert_exporter": "python",
   "pygments_lexer": "ipython3",
   "version": "3.7.4"
  }
 },
 "nbformat": 4,
 "nbformat_minor": 2
}
