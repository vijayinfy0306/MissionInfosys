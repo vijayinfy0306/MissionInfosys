{
 "cells": [
  {
   "cell_type": "code",
   "execution_count": 28,
   "metadata": {},
   "outputs": [
    {
     "name": "stdout",
     "output_type": "stream",
     "text": [
      "Enter a value:4\n",
      "Enter b value:2\n",
      "Addition: 6\n",
      "subtraction: 2\n"
     ]
    }
   ],
   "source": [
    "from math5 import *\n",
    "#print(math.x)\n",
    "a=int(input(\"Enter a value:\"))\n",
    "b=int(input(\"Enter b value:\"))\n",
    "math5.xyz(a,b)\n",
    "math5.sub(a,b)\n",
    "#print(\"Addition:\",math.add(5,4))\n",
    "#print(\"Subtraction:\",math.sub(5,4))"
   ]
  },
  {
   "cell_type": "code",
   "execution_count": 25,
   "metadata": {},
   "outputs": [
    {
     "name": "stdout",
     "output_type": "stream",
     "text": [
      "Enter a value:4\n",
      "Enter b value:2\n",
      "Division: 2.0\n",
      "Addition: 6\n",
      "subtraction: 2\n",
      "production: 8\n",
      "vijay\n",
      "Nitish\n"
     ]
    }
   ],
   "source": [
    "# User defined Module.......(math 5)\n",
    "\n",
    "import math5\n",
    "a=int(input(\"Enter a value:\"))\n",
    "b=int(input(\"Enter b value:\"))\n",
    "math5.div(a,b)\n",
    "math5.xyz(a,b)\n",
    "math5.sub(a,b)\n",
    "math5.mul(a,b)\n",
    "print(math5.x)\n",
    "print(math5.y)"
   ]
  },
  {
   "cell_type": "code",
   "execution_count": 27,
   "metadata": {},
   "outputs": [
    {
     "name": "stdout",
     "output_type": "stream",
     "text": [
      "11\n",
      "10\n",
      "10.25479\n",
      "10.254479\n"
     ]
    }
   ],
   "source": [
    "from math import *\n",
    "\n",
    "print(ceil(10.222258))\n",
    "print(floor(10.25258))\n",
    "print (fabs(-10.25479))\n",
    "print(fabs(10.254479))"
   ]
  },
  {
   "cell_type": "code",
   "execution_count": 19,
   "metadata": {},
   "outputs": [
    {
     "name": "stdout",
     "output_type": "stream",
     "text": [
      "56\n",
      "82\n",
      "37\n",
      "74\n",
      "15\n",
      "86\n",
      "75\n",
      "20\n",
      "65\n",
      "82\n"
     ]
    }
   ],
   "source": [
    "# Importing Random function\n",
    "\n",
    "from random import *\n",
    "for i in range(10):\n",
    "    print(randint(1,100))"
   ]
  },
  {
   "cell_type": "code",
   "execution_count": 24,
   "metadata": {},
   "outputs": [
    {
     "name": "stdout",
     "output_type": "stream",
     "text": [
      "87.90321588246306\n",
      "28.615696439533412\n",
      "50.797023955319865\n",
      "95.52408650551334\n",
      "26.028086661230486\n",
      "62.3405598978485\n",
      "2.542567030147171\n",
      "78.80762530203027\n",
      "90.63176232800039\n",
      "75.60691609691419\n"
     ]
    }
   ],
   "source": [
    "# Import Random function\n",
    "\n",
    "from random import *\n",
    "for i in range(10):\n",
    "    print(uniform(1,100))"
   ]
  },
  {
   "cell_type": "code",
   "execution_count": 30,
   "metadata": {},
   "outputs": [
    {
     "name": "stdout",
     "output_type": "stream",
     "text": [
      "1\n",
      "3\n",
      "5\n",
      "3\n",
      "3\n",
      "3\n",
      "3\n",
      "1\n",
      "7\n",
      "9\n"
     ]
    }
   ],
   "source": [
    "# Importing Random function\n",
    "\n",
    "from random import *\n",
    "for i in range(10):\n",
    "    print(randrange(1,11,2))"
   ]
  },
  {
   "cell_type": "code",
   "execution_count": 37,
   "metadata": {},
   "outputs": [
    {
     "name": "stdout",
     "output_type": "stream",
     "text": [
      "0\n",
      "3\n",
      "6\n",
      "9\n"
     ]
    }
   ],
   "source": [
    "for i in range(0,11,3):\n",
    "    print(i)"
   ]
  },
  {
   "cell_type": "code",
   "execution_count": 64,
   "metadata": {},
   "outputs": [
    {
     "name": "stdout",
     "output_type": "stream",
     "text": [
      "Funny\n",
      "Dummy\n",
      "Dummy\n",
      "Chinny\n",
      "Funny\n",
      "Chinny\n",
      "Chinny\n",
      "Sunny\n",
      "Dummy\n",
      "Bunny\n"
     ]
    }
   ],
   "source": [
    "from random import *\n",
    "list=['Sunny','Bunny','Chinny','Dummy','Emanuel','Funny']\n",
    "for i in range(10):\n",
    "    print(choice(list))"
   ]
  },
  {
   "cell_type": "code",
   "execution_count": 15,
   "metadata": {
    "scrolled": true
   },
   "outputs": [
    {
     "name": "stdout",
     "output_type": "stream",
     "text": [
      "[1, 2, 3, 4, 5, 6, 7, 8, 9, 10, 11, 12, 13, 14, 15, 16, 17, 18, 19, 20, 21, 22, 23, 24, 25, 26, 27, 28, 29, 30, 31, 32, 33, 34, 35, 36, 37, 38, 39, 40, 41, 42, 43, 44, 45, 46, 47, 48, 49, 50, 51, 52, 53, 54, 55, 56, 57, 58, 59, 60, 61, 62, 63, 64, 65, 66, 67, 68, 69, 70, 71, 72, 73, 74, 75, 76, 77, 78, 79, 80, 81, 82, 83, 84, 85, 86, 87, 88, 89, 90]\n",
      "\n",
      "press any key to Turn the Tambola: a\n",
      "\n",
      "3\n",
      "\n",
      "\n",
      "[1, 2, 4, 5, 6, 7, 8, 9, 10, 11, 12, 13, 14, 15, 16, 17, 18, 19, 20, 21, 22, 23, 24, 25, 26, 27, 28, 29, 30, 31, 32, 33, 34, 35, 36, 37, 38, 39, 40, 41, 42, 43, 44, 45, 46, 47, 48, 49, 50, 51, 52, 53, 54, 55, 56, 57, 58, 59, 60, 61, 62, 63, 64, 65, 66, 67, 68, 69, 70, 71, 72, 73, 74, 75, 76, 77, 78, 79, 80, 81, 82, 83, 84, 85, 86, 87, 88, 89, 90]\n",
      "\n"
     ]
    },
    {
     "ename": "ValueError",
     "evalue": "list.remove(x): x not in list",
     "output_type": "error",
     "traceback": [
      "\u001b[1;31m---------------------------------------------------------------------------\u001b[0m",
      "\u001b[1;31mValueError\u001b[0m                                Traceback (most recent call last)",
      "\u001b[1;32m<ipython-input-15-f09e107fe038>\u001b[0m in \u001b[0;36m<module>\u001b[1;34m\u001b[0m\n\u001b[0;32m     29\u001b[0m                 \u001b[1;32mcontinue\u001b[0m\u001b[1;33m\u001b[0m\u001b[1;33m\u001b[0m\u001b[0m\n\u001b[0;32m     30\u001b[0m             \u001b[1;32melse\u001b[0m\u001b[1;33m:\u001b[0m\u001b[1;33m\u001b[0m\u001b[1;33m\u001b[0m\u001b[0m\n\u001b[1;32m---> 31\u001b[1;33m                 \u001b[0ml\u001b[0m\u001b[1;33m.\u001b[0m\u001b[0mremove\u001b[0m\u001b[1;33m(\u001b[0m\u001b[0mj\u001b[0m\u001b[1;33m)\u001b[0m\u001b[1;33m\u001b[0m\u001b[1;33m\u001b[0m\u001b[0m\n\u001b[0m\u001b[0;32m     32\u001b[0m                 \u001b[0mprint\u001b[0m\u001b[1;33m(\u001b[0m\u001b[1;33m)\u001b[0m\u001b[1;33m\u001b[0m\u001b[1;33m\u001b[0m\u001b[0m\n\u001b[0;32m     33\u001b[0m                 \u001b[0mprint\u001b[0m\u001b[1;33m(\u001b[0m\u001b[0ml\u001b[0m\u001b[1;33m)\u001b[0m\u001b[1;33m\u001b[0m\u001b[1;33m\u001b[0m\u001b[0m\n",
      "\u001b[1;31mValueError\u001b[0m: list.remove(x): x not in list"
     ]
    }
   ],
   "source": [
    "import random\n",
    "from random import *\n",
    "import sys\n",
    "from sys import *\n",
    "\n",
    "l=[]\n",
    "for i in range(1,91):\n",
    "    l.append(i)\n",
    "print(l)\n",
    "print()\n",
    "\n",
    "for z in range(3):\n",
    "    \n",
    "    v=input(\"press any key to Turn the Tambola: \")\n",
    "    print()\n",
    "    \n",
    "    if v=='exit':\n",
    "        sys.exit()\n",
    "        \n",
    "    else:\n",
    "         \n",
    "        for k in range(1):\n",
    "            j=randint(1,5)\n",
    "        print(j)\n",
    "        print()\n",
    "        \n",
    "        for a in l:\n",
    "            if (a==j):\n",
    "                continue\n",
    "            else:\n",
    "                l.remove(j)\n",
    "                print()\n",
    "                print(l)\n",
    "                print()"
   ]
  },
  {
   "cell_type": "code",
   "execution_count": 3,
   "metadata": {},
   "outputs": [
    {
     "name": "stdout",
     "output_type": "stream",
     "text": [
      "Enter the key:exit\n"
     ]
    },
    {
     "ename": "SystemExit",
     "evalue": "",
     "output_type": "error",
     "traceback": [
      "An exception has occurred, use %tb to see the full traceback.\n",
      "\u001b[1;31mSystemExit\u001b[0m\n"
     ]
    }
   ],
   "source": [
    "import sys\n",
    "\n",
    "for i in range(3):\n",
    "    x=input(\"Enter the key:\")\n",
    "    if x=='exit':\n",
    "        sys.exit()\n",
    "    else:\n",
    "        print(\"The end\")\n"
   ]
  },
  {
   "cell_type": "code",
   "execution_count": 177,
   "metadata": {},
   "outputs": [
    {
     "name": "stdout",
     "output_type": "stream",
     "text": [
      "[1, 2, 4]\n"
     ]
    }
   ],
   "source": [
    "l=[1,2,3,4]\n",
    "l.remove(3)\n",
    "print(l)"
   ]
  },
  {
   "cell_type": "code",
   "execution_count": 66,
   "metadata": {},
   "outputs": [
    {
     "name": "stdout",
     "output_type": "stream",
     "text": [
      "Mean is: 6\n"
     ]
    }
   ],
   "source": [
    "# Importing statistics module\n",
    "\n",
    "import statistics\n",
    "dataset=[2,4,6,8,10]\n",
    "x=statistics.mean(dataset)\n",
    "print(\"Mean is:\",x)"
   ]
  },
  {
   "cell_type": "code",
   "execution_count": 71,
   "metadata": {},
   "outputs": [
    {
     "name": "stdout",
     "output_type": "stream",
     "text": [
      "Median is: 9.0\n"
     ]
    }
   ],
   "source": [
    "# Importing statistics module\n",
    "\n",
    "import statistics\n",
    "dataset=[18,14,2,4,6,8,10,12]    # At the time of processing there are assigned into ascending order. \n",
    "x=statistics.median(dataset)\n",
    "print(\"Median is:\",x)"
   ]
  },
  {
   "cell_type": "code",
   "execution_count": 75,
   "metadata": {},
   "outputs": [
    {
     "name": "stdout",
     "output_type": "stream",
     "text": [
      "Mode is: 12\n"
     ]
    }
   ],
   "source": [
    "# Importing statistics module\n",
    "\n",
    "import statistics\n",
    "dataset=[18,14,2,4,6,8,10,12,2,12,4,12]    # At the time of processing there are assigned into ascending order. \n",
    "x=statistics.mode(dataset)\n",
    "print(\"Mode is:\",x)"
   ]
  },
  {
   "cell_type": "code",
   "execution_count": 141,
   "metadata": {},
   "outputs": [
    {
     "name": "stdout",
     "output_type": "stream",
     "text": [
      "A 10\n",
      "C 12\n",
      "B 11\n",
      "D 13\n"
     ]
    }
   ],
   "source": [
    "# Import collections\n",
    "\n",
    "import collections\n",
    "d1=collections.OrderedDict()\n",
    "d1['A']=10\n",
    "d1['C']=12\n",
    "d1['B']=11\n",
    "d1['D']=13\n",
    " \n",
    "for k,v in d1.items():\n",
    "    print(k,v)"
   ]
  },
  {
   "cell_type": "code",
   "execution_count": 147,
   "metadata": {},
   "outputs": [
    {
     "name": "stdout",
     "output_type": "stream",
     "text": [
      "3\n"
     ]
    }
   ],
   "source": [
    "# Importing the collections\n",
    "\n",
    "import collections\n",
    "from collections import *\n",
    "number=defaultdict(int)\n",
    "number['one']=1\n",
    "number['two']=2\n",
    "number['three']=3\n",
    "print(number['three'])"
   ]
  },
  {
   "cell_type": "code",
   "execution_count": 148,
   "metadata": {},
   "outputs": [
    {
     "name": "stdout",
     "output_type": "stream",
     "text": [
      "0\n"
     ]
    }
   ],
   "source": [
    "# Importing the collections\n",
    "\n",
    "import collections\n",
    "from collections import *\n",
    "number=defaultdict(int)\n",
    "number['one']=1\n",
    "number['two']=2\n",
    "number['three']=3\n",
    "print(number['four'])"
   ]
  },
  {
   "cell_type": "code",
   "execution_count": 151,
   "metadata": {},
   "outputs": [
    {
     "name": "stdout",
     "output_type": "stream",
     "text": [
      "5\n"
     ]
    }
   ],
   "source": [
    "# Importing the collections\n",
    "\n",
    "from collections import Counter\n",
    "list=[1,2,3,4,5,6,7,3,2,1,5,3,6,3,3]\n",
    "c=Counter(list)\n",
    "print(c[3])"
   ]
  },
  {
   "cell_type": "code",
   "execution_count": 162,
   "metadata": {},
   "outputs": [
    {
     "name": "stdout",
     "output_type": "stream",
     "text": [
      "Enter the character:v\n",
      "deque(['d', 'e', 'x', 'y', 'z', 'a', 'b', 'v'])\n"
     ]
    }
   ],
   "source": [
    "# Importing the collections \n",
    "\n",
    "from collections import deque\n",
    "list=['d','e','x','y','z','a','b']\n",
    "x=input(\"Enter the character:\")\n",
    "list.append(x)\n",
    "deq=deque(list)\n",
    "print(deq)"
   ]
  },
  {
   "cell_type": "code",
   "execution_count": 14,
   "metadata": {},
   "outputs": [
    {
     "name": "stdout",
     "output_type": "stream",
     "text": [
      "deque(['d', 'e', 'x', 'y', 'z', 'a', 'b'])\n"
     ]
    }
   ],
   "source": [
    "from collections import deque\n",
    "list=['d','e','x','y','z','a','b']\n",
    "deq=deque(list)\n",
    "print(deq)"
   ]
  },
  {
   "cell_type": "code",
   "execution_count": 3,
   "metadata": {},
   "outputs": [
    {
     "ename": "FileNotFoundError",
     "evalue": "[WinError 2] The system cannot find the file specified: 'first.txt' -> 'Hello.txt'",
     "output_type": "error",
     "traceback": [
      "\u001b[1;31m---------------------------------------------------------------------------\u001b[0m",
      "\u001b[1;31mFileNotFoundError\u001b[0m                         Traceback (most recent call last)",
      "\u001b[1;32m<ipython-input-3-806b3abfe87b>\u001b[0m in \u001b[0;36m<module>\u001b[1;34m\u001b[0m\n\u001b[0;32m      1\u001b[0m \u001b[1;32mimport\u001b[0m \u001b[0mos\u001b[0m\u001b[1;33m\u001b[0m\u001b[1;33m\u001b[0m\u001b[0m\n\u001b[1;32m----> 2\u001b[1;33m \u001b[0mos\u001b[0m\u001b[1;33m.\u001b[0m\u001b[0mrename\u001b[0m\u001b[1;33m(\u001b[0m\u001b[1;34m\"first.txt\"\u001b[0m\u001b[1;33m,\u001b[0m\u001b[1;34m\"Hello.txt\"\u001b[0m\u001b[1;33m)\u001b[0m\u001b[1;33m\u001b[0m\u001b[1;33m\u001b[0m\u001b[0m\n\u001b[0m\u001b[0;32m      3\u001b[0m \u001b[0mprint\u001b[0m\u001b[1;33m(\u001b[0m\u001b[1;34m\"The File Is Renamed Sucessfully\"\u001b[0m\u001b[1;33m)\u001b[0m\u001b[1;33m\u001b[0m\u001b[1;33m\u001b[0m\u001b[0m\n",
      "\u001b[1;31mFileNotFoundError\u001b[0m: [WinError 2] The system cannot find the file specified: 'first.txt' -> 'Hello.txt'"
     ]
    }
   ],
   "source": [
    "# Rename the existing file\n",
    "\n",
    "import os\n",
    "os.rename(\"first.txt\",\"Hello.txt\")\n",
    "print(\"The File Is Renamed Sucessfully\")"
   ]
  },
  {
   "cell_type": "code",
   "execution_count": 6,
   "metadata": {},
   "outputs": [
    {
     "name": "stdout",
     "output_type": "stream",
     "text": [
      "Enter File Name: Hello.txt\n",
      "File Exists: Hello.txt\n",
      "The content of file is: \n",
      "Hello All\n"
     ]
    }
   ],
   "source": [
    "# Reading the content from Existing files\n",
    "\n",
    "import os,sys\n",
    "fname=input(\"Enter File Name: \")\n",
    "if os.path.isfile(fname):\n",
    "    print(\"File Exists:\",fname)\n",
    "    f=open(fname,'r')\n",
    "else:\n",
    "    print(\"File does not exists:\",fname)\n",
    "    sys.exit(0)\n",
    "print(\"The content of file is: \")\n",
    "data=f.read()\n",
    "print(data)"
   ]
  },
  {
   "cell_type": "code",
   "execution_count": 16,
   "metadata": {},
   "outputs": [
    {
     "name": "stdout",
     "output_type": "stream",
     "text": [
      "Enter File Name: Hello.txt\n",
      "File Exists: Hello.txt\n",
      "The number of lines: 1\n",
      "The number of words: 2\n",
      "The number of characters: 9\n"
     ]
    }
   ],
   "source": [
    "# Counting the characters,lines,words in the existing files\n",
    "\n",
    "import os,sys\n",
    "fname=input(\"Enter File Name: \")\n",
    "if os.path.isfile(fname):\n",
    "    print(\"File Exists:\",fname)\n",
    "    f=open(fname,'r')\n",
    "else:\n",
    "    print(\"File does not exists:\",fname)\n",
    "    sys.exit(0)\n",
    "lcount=wcount=ccount=0\n",
    "for line in f:\n",
    "    lcount=lcount+1\n",
    "    ccount=ccount+len(line)\n",
    "    words=line.split()\n",
    "    wcount=wcount+len(words)\n",
    "print(\"The number of lines:\",lcount)\n",
    "print(\"The number of words:\",wcount)\n",
    "print(\"The number of characters:\",ccount)"
   ]
  },
  {
   "cell_type": "code",
   "execution_count": 18,
   "metadata": {},
   "outputs": [
    {
     "name": "stdout",
     "output_type": "stream",
     "text": [
      "Enter Number of Employees: 2\n",
      "Enter Employee No: 101\n",
      "Enter Employee Name: vijay\n",
      "Enter Employee Salary: 3300\n",
      "Enter Employee Address: hyd\n",
      "Enter Employee No: 102\n",
      "Enter Employee Name: prasad\n",
      "Enter Employee Salary: 35000\n",
      "Enter Employee Address: hyd\n",
      "Total Employees data written to csv file successfully\n"
     ]
    }
   ],
   "source": [
    "# CSV-Comma Separated Values\n",
    "\n",
    "import csv\n",
    "with open(\"emp.csv\",'w',newline='') as f:\n",
    "    x=csv.writer(f)                            # Returns csv writer object\n",
    "    x.writerow([\"ENO\",\"ENAME\",\"ESAL\",\"EADDR\"])\n",
    "    n=int(input(\"Enter Number of Employees: \"))\n",
    "    for i in range(n):\n",
    "        eno=input(\"Enter Employee No: \")\n",
    "        ename=input(\"Enter Employee Name: \")\n",
    "        esal=input(\"Enter Employee Salary: \")\n",
    "        eaddr=input(\"Enter Employee Address: \")\n",
    "        x.writerow([eno,ename,esal,eaddr])\n",
    "    print(\"Total Employees data written to csv file successfully\")\n",
    "    "
   ]
  },
  {
   "cell_type": "code",
   "execution_count": 36,
   "metadata": {},
   "outputs": [
    {
     "name": "stdout",
     "output_type": "stream",
     "text": [
      "Enter Number of Employees: 1\n",
      "Enter Employee No: 101\n",
      "Enter Employee Name: vijay\n",
      "Enter Employee Salary: 35000\n",
      "Enter Employee Address: hyd\n",
      "Total Employees data written to csv file successfully\n",
      "43\n"
     ]
    }
   ],
   "source": [
    "# CSV-Comma Separated Values\n",
    "\n",
    "import csv\n",
    "with open(\"emp.txt\",'w',newline='') as f:\n",
    "    x=csv.writer(f)                            # Returns csv writer object\n",
    "    x.writerow([\"ENO\",\"ENAME\",\"ESAL\",\"EADDR\"])\n",
    "    n=int(input(\"Enter Number of Employees: \"))\n",
    "    for i in range(n):\n",
    "        eno=input(\"Enter Employee No: \")\n",
    "        ename=input(\"Enter Employee Name: \")\n",
    "        esal=input(\"Enter Employee Salary: \")\n",
    "        eaddr=input(\"Enter Employee Address: \")\n",
    "        x.writerow([eno,ename,esal,eaddr])\n",
    "    print(\"Total Employees data written to csv file successfully\")\n",
    "    print(f.tell())\n",
    "    "
   ]
  },
  {
   "cell_type": "code",
   "execution_count": 19,
   "metadata": {},
   "outputs": [
    {
     "name": "stdout",
     "output_type": "stream",
     "text": [
      "ENO \tENAME \tESAL \tEADDR \t\n",
      "101 \tvijay \t3300 \thyd \t\n",
      "102 \tprasad \t35000 \thyd \t\n"
     ]
    }
   ],
   "source": [
    "# Reading the data in table format\n",
    "\n",
    "import csv \n",
    "f=open(\"emp.csv\",'r')\n",
    "r=csv.reader(f)\n",
    "data=list(r)\n",
    "for line in data:\n",
    "    for word in line:\n",
    "        print(word,\"\\t\",end='')\n",
    "    print()    \n",
    "    "
   ]
  },
  {
   "cell_type": "code",
   "execution_count": 35,
   "metadata": {},
   "outputs": [
    {
     "name": "stdout",
     "output_type": "stream",
     "text": [
      "0\n",
      "He\n",
      "2\n",
      "ll\n",
      "4\n",
      "o \n",
      "6\n",
      "Al\n",
      "8\n",
      "l \n",
      "10\n"
     ]
    }
   ],
   "source": [
    "f=open(\"Hello.txt\",'r')\n",
    "print(f.tell())      # Tell the pointer position\n",
    "print(f.read(2))\n",
    "print(f.tell())\n",
    "print(f.read(2))\n",
    "print(f.tell())\n",
    "print(f.read(2))\n",
    "print(f.tell())\n",
    "print(f.read(2))\n",
    "print(f.tell())\n",
    "print(f.read(2))\n",
    "print(f.tell())\n"
   ]
  },
  {
   "cell_type": "code",
   "execution_count": 37,
   "metadata": {},
   "outputs": [
    {
     "name": "stdout",
     "output_type": "stream",
     "text": [
      "0\n",
      "1\n",
      "2\n",
      "3\n",
      "4\n"
     ]
    }
   ],
   "source": [
    "n=5\n",
    "for i in range(n):\n",
    "    print(i)"
   ]
  }
 ],
 "metadata": {
  "kernelspec": {
   "display_name": "Python 3",
   "language": "python",
   "name": "python3"
  },
  "language_info": {
   "codemirror_mode": {
    "name": "ipython",
    "version": 3
   },
   "file_extension": ".py",
   "mimetype": "text/x-python",
   "name": "python",
   "nbconvert_exporter": "python",
   "pygments_lexer": "ipython3",
   "version": "3.7.4"
  }
 },
 "nbformat": 4,
 "nbformat_minor": 2
}
