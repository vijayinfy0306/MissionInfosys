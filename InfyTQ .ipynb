{
 "cells": [
  {
   "cell_type": "code",
   "execution_count": 1,
   "metadata": {},
   "outputs": [
    {
     "name": "stdout",
     "output_type": "stream",
     "text": [
      "Enter the string: fdkj\n",
      "fdkj\n",
      "Alphabets= fdkj\n",
      "4\n",
      "Numerics= \n",
      "0\n",
      "Special= \n",
      "0\n",
      "\n",
      "Even\n"
     ]
    }
   ],
   "source": [
    "# InfyTQ Problem\n",
    "x=input(\"Enter the string: \")\n",
    "print(x)\n",
    "s1=s2=s3=output=z=''\n",
    "for i in x:\n",
    "    if i.isalpha():\n",
    "        s1=s1+i\n",
    "    elif i.isnumeric():\n",
    "        s2=s2+i\n",
    "    else:\n",
    "        s3=s3+i\n",
    "print(\"Alphabets=\",s1)\n",
    "print(len(s1))\n",
    "print(\"Numerics=\",s2)\n",
    "print(len(s2))\n",
    "print(\"Special=\",s3)\n",
    "print(len(s3))\n",
    "\n",
    "for i in sorted(s2):\n",
    "    output=output+i\n",
    "print(output)\n",
    "\n",
    "if (len(s3)%2)!=0:\n",
    "    for i in output:\n",
    "        if i%2!=0:\n",
    "            if k==0:\n",
    "                z=z+i\n",
    "                k=k+1\n",
    "            \n",
    "            \n",
    "        \n",
    "else:\n",
    "    print(\"Even\")"
   ]
  },
  {
   "cell_type": "code",
   "execution_count": 46,
   "metadata": {},
   "outputs": [
    {
     "name": "stdout",
     "output_type": "stream",
     "text": [
      "Enter the number: 7\n",
      "Enter the number: 7\n",
      "Enter the number: 7\n",
      "-1\n"
     ]
    }
   ],
   "source": [
    "\n",
    "\n",
    "def I(num1,num2,num3):\n",
    "    product=0\n",
    "    if(num1==7 and num2!=7 and num3!=7):\n",
    "        product=num2*num3\n",
    "    elif(num1==7 and num2==7):\n",
    "        product=-1\n",
    "    elif(num2==7 and num3!=7):\n",
    "        product=num3\n",
    "    elif(num3==7):\n",
    "        product=-1\n",
    "    else:\n",
    "        product=num1*num2*num3\n",
    "    print(product)\n",
    "x=int(input(\"Enter the number: \"))\n",
    "y=int(input(\"Enter the number: \"))\n",
    "z=int(input(\"Enter the number: \"))\n",
    "I(x,y,z)\n"
   ]
  },
  {
   "cell_type": "code",
   "execution_count": 37,
   "metadata": {},
   "outputs": [
    {
     "name": "stdout",
     "output_type": "stream",
     "text": [
      "Enter the number: 7\n",
      "Enter the number: 7\n",
      "Enter the number: 7\n",
      "49\n"
     ]
    }
   ],
   "source": [
    "# InfyTQ Problem\n",
    "\n",
    "def I(num1,num2,num3):\n",
    "    product=0\n",
    "    if(num1==7):\n",
    "        product=num2*num3\n",
    "    elif(num2==7):\n",
    "        product=num3\n",
    "    elif(num3==7):\n",
    "        product=-1\n",
    "    else:\n",
    "        product=num1*num2*num3\n",
    "    print(product)\n",
    "x=int(input(\"Enter the number: \"))\n",
    "y=int(input(\"Enter the number: \"))\n",
    "z=int(input(\"Enter the number: \"))\n",
    "I(x,y,z)\n"
   ]
  },
  {
   "cell_type": "code",
   "execution_count": 10,
   "metadata": {},
   "outputs": [
    {
     "ename": "TypeError",
     "evalue": "ClassA() takes no arguments",
     "output_type": "error",
     "traceback": [
      "\u001b[1;31m---------------------------------------------------------------------------\u001b[0m",
      "\u001b[1;31mTypeError\u001b[0m                                 Traceback (most recent call last)",
      "\u001b[1;32m<ipython-input-10-d78a30eb6834>\u001b[0m in \u001b[0;36m<module>\u001b[1;34m\u001b[0m\n\u001b[0;32m     10\u001b[0m         \u001b[1;32mreturn\u001b[0m \u001b[0mobj\u001b[0m\u001b[1;33m.\u001b[0m\u001b[0mmethod_a\u001b[0m\u001b[1;33m(\u001b[0m\u001b[1;33m)\u001b[0m\u001b[1;33m+\u001b[0m\u001b[0mself\u001b[0m\u001b[1;33m.\u001b[0m\u001b[0mnum\u001b[0m\u001b[1;33m\u001b[0m\u001b[1;33m\u001b[0m\u001b[0m\n\u001b[0;32m     11\u001b[0m \u001b[1;33m\u001b[0m\u001b[0m\n\u001b[1;32m---> 12\u001b[1;33m \u001b[0mobj1\u001b[0m\u001b[1;33m=\u001b[0m\u001b[0mClassA\u001b[0m\u001b[1;33m(\u001b[0m\u001b[1;36m20\u001b[0m\u001b[1;33m)\u001b[0m\u001b[1;33m\u001b[0m\u001b[1;33m\u001b[0m\u001b[0m\n\u001b[0m\u001b[0;32m     13\u001b[0m \u001b[0mobj2\u001b[0m\u001b[1;33m=\u001b[0m\u001b[0mClassB\u001b[0m\u001b[1;33m(\u001b[0m\u001b[1;36m30\u001b[0m\u001b[1;33m)\u001b[0m\u001b[1;33m\u001b[0m\u001b[1;33m\u001b[0m\u001b[0m\n\u001b[0;32m     14\u001b[0m \u001b[0mprint\u001b[0m\u001b[1;33m(\u001b[0m\u001b[0mobj2\u001b[0m\u001b[1;33m.\u001b[0m\u001b[0mmethod_b\u001b[0m\u001b[1;33m(\u001b[0m\u001b[0mobj1\u001b[0m\u001b[1;33m)\u001b[0m\u001b[1;33m)\u001b[0m\u001b[1;33m\u001b[0m\u001b[1;33m\u001b[0m\u001b[0m\n",
      "\u001b[1;31mTypeError\u001b[0m: ClassA() takes no arguments"
     ]
    }
   ],
   "source": [
    "class ClassA:\n",
    "    def _init_(self, val1) :\n",
    "        self.value = val1\n",
    "    def method_a(self) :\n",
    "        return 10+self.value\n",
    "class ClassB:\n",
    "    def _init_(self, val2):\n",
    "        self. num=val2\n",
    "    def method_b(self, obj):\n",
    "        return obj.method_a()+self.num\n",
    "\n",
    "obj1=ClassA(20)\n",
    "obj2=ClassB(30)\n",
    "print(obj2.method_b(obj1))"
   ]
  },
  {
   "cell_type": "code",
   "execution_count": 48,
   "metadata": {},
   "outputs": [
    {
     "name": "stdout",
     "output_type": "stream",
     "text": [
      "Enter the string: (){}[]\n",
      "(\n",
      ")\n",
      "{\n",
      "}\n",
      "[\n",
      "]\n",
      "6\n"
     ]
    }
   ],
   "source": [
    "x=input(\"Enter the string: \")\n",
    "count=0\n",
    "for i in x:\n",
    "    print(i)\n",
    "    count +=1\n",
    "print(count)\n",
    "    \n",
    "    "
   ]
  },
  {
   "cell_type": "code",
   "execution_count": 20,
   "metadata": {},
   "outputs": [
    {
     "name": "stdout",
     "output_type": "stream",
     "text": [
      "enter the string: apple\n",
      "a\n",
      "p\n",
      "p\n",
      "l\n",
      "e\n",
      "['a', 'p', 'p', 'l', 'e']\n",
      "['e', 'l', 'p', 'a']\n",
      "elpa\n"
     ]
    }
   ],
   "source": [
    "x=input(\"enter the string: \")\n",
    "j=[]\n",
    "for i in x:\n",
    "    j.append(i)\n",
    "    print(i)\n",
    "print(j)\n",
    "j=list(dict.fromkeys(j))\n",
    "k=j[::-1]\n",
    "print(k)\n",
    "print(''.join(k))\n"
   ]
  },
  {
   "cell_type": "code",
   "execution_count": 21,
   "metadata": {},
   "outputs": [
    {
     "name": "stdout",
     "output_type": "stream",
     "text": [
      "enter the string: apple\n",
      "elpa\n"
     ]
    }
   ],
   "source": [
    "x=input(\"enter the string: \")\n",
    "j=[]\n",
    "for i in x:\n",
    "    j.append(i)\n",
    "#print(j)\n",
    "j=list(dict.fromkeys(j))\n",
    "#print(j[::-1])\n",
    "print(''.join(j[::-1]))\n"
   ]
  },
  {
   "cell_type": "code",
   "execution_count": 22,
   "metadata": {
    "scrolled": true
   },
   "outputs": [
    {
     "name": "stdout",
     "output_type": "stream",
     "text": [
      "enter the string: apple\n",
      "elpa\n"
     ]
    }
   ],
   "source": [
    "x=input(\"enter the string: \")\n",
    "x=list(dict.fromkeys(x))\n",
    "print(''.join(x[::-1]))\n"
   ]
  },
  {
   "cell_type": "code",
   "execution_count": 32,
   "metadata": {},
   "outputs": [
    {
     "name": "stdout",
     "output_type": "stream",
     "text": [
      "enter the string: prasad\n",
      "p\n",
      "pr\n",
      "pra\n",
      "pras\n",
      "prasd\n",
      "dsarp\n"
     ]
    }
   ],
   "source": [
    "x=input(\"enter the string: \")\n",
    "s=''\n",
    "for i in x:\n",
    "    if i not in s:\n",
    "        s=s+i\n",
    "        print(s)\n",
    "print(s[::-1])"
   ]
  },
  {
   "cell_type": "code",
   "execution_count": 33,
   "metadata": {},
   "outputs": [
    {
     "name": "stdout",
     "output_type": "stream",
     "text": [
      "enter the string: apple\n",
      "elpa\n"
     ]
    }
   ],
   "source": [
    "x=input(\"enter the string: \")\n",
    "s=''\n",
    "for i in x:\n",
    "    if i not in s:\n",
    "        s=s+i\n",
    "        #print(s)\n",
    "print(s[::-1])"
   ]
  },
  {
   "cell_type": "code",
   "execution_count": 4,
   "metadata": {},
   "outputs": [
    {
     "name": "stdout",
     "output_type": "stream",
     "text": [
      "Enter identifier:e0kjmhng\n",
      "e0kjmhng Is valid\n"
     ]
    }
   ],
   "source": [
    "import re\n",
    "s=input(\"Enter identifier:\")\n",
    "a=re.fullmatch('[a-k][(0369)][a-zA-Z0-9#]*',s)\n",
    "if a != None:\n",
    "    print(s,\"Is valid\")\n",
    "else:\n",
    "    print(s,\"Is not valid\")"
   ]
  },
  {
   "cell_type": "code",
   "execution_count": 20,
   "metadata": {},
   "outputs": [
    {
     "name": "stdout",
     "output_type": "stream",
     "text": [
      "Enter the string: -567dfgy\n",
      "-567\n"
     ]
    }
   ],
   "source": [
    "x=input(\"Enter the string: \")\n",
    "s=''\n",
    "for i in x:\n",
    "    if i.isdigit():\n",
    "        #print(\"Numbers:\",i)\n",
    "        s=s+i\n",
    "    else:\n",
    "        #print(\"Characters:\",i)\n",
    "        pass\n",
    "if x[0]=='-':\n",
    "    z=int(s)\n",
    "    print(z*(-1))\n",
    "else:\n",
    "    print(s,end='')\n"
   ]
  },
  {
   "cell_type": "code",
   "execution_count": 53,
   "metadata": {},
   "outputs": [
    {
     "name": "stdout",
     "output_type": "stream",
     "text": [
      "Enter the number:467\n",
      "764\n",
      "sum= 1231\n",
      "1321\n",
      "not\n"
     ]
    }
   ],
   "source": [
    "x=input(\"Enter the number:\")\n",
    "sum=0\n",
    "y=x[::-1]\n",
    "print(y)\n",
    "sum=(int(x)+int(y))\n",
    "print(\"sum=\",sum)\n",
    "z=sum\n",
    "b=0\n",
    "rem=0\n",
    "while(sum>0):\n",
    "    b=sum%10\n",
    "    rem=(rem*10)+b\n",
    "    #print(rem)\n",
    "    sum=sum//10\n",
    "if (rem==z):\n",
    "    print(rem)\n",
    "    print(\"palindrome\")\n",
    "else:\n",
    "    print(rem)\n",
    "    print(\"not\")\n",
    "    "
   ]
  },
  {
   "cell_type": "code",
   "execution_count": 6,
   "metadata": {},
   "outputs": [
    {
     "name": "stdout",
     "output_type": "stream",
     "text": [
      "Enter the number:258\n",
      "852\n",
      "sum= 1110\n"
     ]
    },
    {
     "ename": "TypeError",
     "evalue": "pali() takes 1 positional argument but 2 were given",
     "output_type": "error",
     "traceback": [
      "\u001b[1;31m---------------------------------------------------------------------------\u001b[0m",
      "\u001b[1;31mTypeError\u001b[0m                                 Traceback (most recent call last)",
      "\u001b[1;32m<ipython-input-6-4dd455aa45c2>\u001b[0m in \u001b[0;36m<module>\u001b[1;34m\u001b[0m\n\u001b[0;32m     26\u001b[0m \u001b[0mprint\u001b[0m\u001b[1;33m(\u001b[0m\u001b[1;34m\"sum=\"\u001b[0m\u001b[1;33m,\u001b[0m\u001b[0msum\u001b[0m\u001b[1;33m)\u001b[0m\u001b[1;33m\u001b[0m\u001b[1;33m\u001b[0m\u001b[0m\n\u001b[0;32m     27\u001b[0m \u001b[0mc\u001b[0m\u001b[1;33m=\u001b[0m\u001b[0mpalindrome\u001b[0m\u001b[1;33m(\u001b[0m\u001b[1;33m)\u001b[0m\u001b[1;33m\u001b[0m\u001b[1;33m\u001b[0m\u001b[0m\n\u001b[1;32m---> 28\u001b[1;33m \u001b[0mc\u001b[0m\u001b[1;33m.\u001b[0m\u001b[0mpali\u001b[0m\u001b[1;33m(\u001b[0m\u001b[0msum\u001b[0m\u001b[1;33m)\u001b[0m\u001b[1;33m\u001b[0m\u001b[1;33m\u001b[0m\u001b[0m\n\u001b[0m\u001b[0;32m     29\u001b[0m \u001b[1;33m\u001b[0m\u001b[0m\n",
      "\u001b[1;31mTypeError\u001b[0m: pali() takes 1 positional argument but 2 were given"
     ]
    }
   ],
   "source": [
    "#..........................................UPDATING................................................................\n",
    "\n",
    "class palindrome:\n",
    "        \n",
    "    def pali(self,sum):\n",
    "        z=self.sum\n",
    "        b=0\n",
    "        rem=0\n",
    "        while(self.sum>0):\n",
    "            b=self.sum%10\n",
    "            rem=(rem*10)+b\n",
    "            #print(rem)\n",
    "            self.sum=self.sum//10\n",
    "        if (rem==z):\n",
    "            print(\"palindrome\")\n",
    "        else:\n",
    "            #x=rem\n",
    "            #y=rem[::-1]\n",
    "            self.sum=rem+rem[::-1]\n",
    "            c.pali(sum)\n",
    "            #print(\"not\")\n",
    "x=input(\"Enter the number:\")\n",
    "y=x[::-1]\n",
    "print(y)\n",
    "sum=(int(x)+int(y))\n",
    "print(\"sum=\",sum)\n",
    "c=palindrome()\n",
    "c.pali(sum)\n",
    "   "
   ]
  },
  {
   "cell_type": "code",
   "execution_count": 4,
   "metadata": {},
   "outputs": [
    {
     "name": "stdout",
     "output_type": "stream",
     "text": [
      "Enter the number:258\n",
      "852\n",
      "sum= 1110\n"
     ]
    },
    {
     "ename": "AttributeError",
     "evalue": "'palindrome' object has no attribute 'sum'",
     "output_type": "error",
     "traceback": [
      "\u001b[1;31m---------------------------------------------------------------------------\u001b[0m",
      "\u001b[1;31mAttributeError\u001b[0m                            Traceback (most recent call last)",
      "\u001b[1;32m<ipython-input-4-af428eee025c>\u001b[0m in \u001b[0;36m<module>\u001b[1;34m\u001b[0m\n\u001b[0;32m     28\u001b[0m \u001b[1;33m\u001b[0m\u001b[0m\n\u001b[0;32m     29\u001b[0m \u001b[0mc\u001b[0m\u001b[1;33m=\u001b[0m\u001b[0mpalindrome\u001b[0m\u001b[1;33m(\u001b[0m\u001b[0msum\u001b[0m\u001b[1;33m)\u001b[0m\u001b[1;33m\u001b[0m\u001b[1;33m\u001b[0m\u001b[0m\n\u001b[1;32m---> 30\u001b[1;33m \u001b[0mc\u001b[0m\u001b[1;33m.\u001b[0m\u001b[0mpali\u001b[0m\u001b[1;33m(\u001b[0m\u001b[1;33m)\u001b[0m\u001b[1;33m\u001b[0m\u001b[1;33m\u001b[0m\u001b[0m\n\u001b[0m\u001b[0;32m     31\u001b[0m \u001b[1;33m\u001b[0m\u001b[0m\n",
      "\u001b[1;32m<ipython-input-4-af428eee025c>\u001b[0m in \u001b[0;36mpali\u001b[1;34m(self)\u001b[0m\n\u001b[0;32m     10\u001b[0m \u001b[1;33m\u001b[0m\u001b[0m\n\u001b[0;32m     11\u001b[0m     \u001b[1;32mdef\u001b[0m \u001b[0mpali\u001b[0m\u001b[1;33m(\u001b[0m\u001b[0mself\u001b[0m\u001b[1;33m)\u001b[0m\u001b[1;33m:\u001b[0m\u001b[1;33m\u001b[0m\u001b[1;33m\u001b[0m\u001b[0m\n\u001b[1;32m---> 12\u001b[1;33m         \u001b[0mz\u001b[0m\u001b[1;33m=\u001b[0m\u001b[0mself\u001b[0m\u001b[1;33m.\u001b[0m\u001b[0msum\u001b[0m\u001b[1;33m\u001b[0m\u001b[1;33m\u001b[0m\u001b[0m\n\u001b[0m\u001b[0;32m     13\u001b[0m         \u001b[0mb\u001b[0m\u001b[1;33m=\u001b[0m\u001b[1;36m0\u001b[0m\u001b[1;33m\u001b[0m\u001b[1;33m\u001b[0m\u001b[0m\n\u001b[0;32m     14\u001b[0m         \u001b[0mrem\u001b[0m\u001b[1;33m=\u001b[0m\u001b[1;36m0\u001b[0m\u001b[1;33m\u001b[0m\u001b[1;33m\u001b[0m\u001b[0m\n",
      "\u001b[1;31mAttributeError\u001b[0m: 'palindrome' object has no attribute 'sum'"
     ]
    }
   ],
   "source": [
    "#..........................................UPDATING................................................................\n",
    "\n",
    "class palindrome:\n",
    "    \n",
    "    def pali(self):\n",
    "        z=sum\n",
    "        b=0\n",
    "        rem=0\n",
    "        while(self.sum>0):\n",
    "            b=self.sum%10\n",
    "            rem=(rem*10)+b\n",
    "            #print(rem)\n",
    "            self.sum=self.sum//10\n",
    "        if (rem==z):\n",
    "            print(\"palindrome\")\n",
    "        else:\n",
    "            #x=rem\n",
    "            #y=rem[::-1]\n",
    "            self.sum=rem+rem[::-1]\n",
    "            c.pali(sum)\n",
    "            #print(\"not\")\n",
    "            \n",
    "x=input(\"Enter the number:\")\n",
    "y=x[::-1]\n",
    "print(y)\n",
    "sum=(int(x)+int(y))\n",
    "print(\"sum=\",self.sum)\n",
    "c=palindrome(sum)\n",
    "c.pali()\n",
    "   "
   ]
  },
  {
   "cell_type": "code",
   "execution_count": null,
   "metadata": {},
   "outputs": [],
   "source": [
    "# .......................................................UPDATING........................................................\n",
    "class palindrome():\n",
    "    x=input(\"Enter the number:\")\n",
    "    self.y=self.x[::-1]\n",
    "    print(self.y)\n",
    "    self.sum=(int(self.x)+int(self.y))\n",
    "    print(\"sum=\",self.sum)\n",
    "    self.z=self.sum\n",
    "    self.b=0\n",
    "    self.rem=0\n",
    "    def pali(self):\n",
    "        while(self.sum>0):\n",
    "            self.b=self.sum%10\n",
    "            self.rem=(self.rem*10)+self.b\n",
    "            #print(rem)\n",
    "            self.sum=self.sum//10\n",
    "    if (self.rem==self.z):\n",
    "        print(\"palindrome\")\n",
    "    else:\n",
    "        c.pali()\n",
    "        #print(\"not\")\n",
    "c=palindrome()\n",
    "   "
   ]
  },
  {
   "cell_type": "code",
   "execution_count": 72,
   "metadata": {},
   "outputs": [
    {
     "name": "stdout",
     "output_type": "stream",
     "text": [
      "Enter A Number:258\n",
      "1221\n"
     ]
    }
   ],
   "source": [
    "def palindrome(i):\n",
    "    if (str(i)==str(i)[::-1]):\n",
    "        return False\n",
    "    else:\n",
    "        return True\n",
    "ip=int(input(\"Enter A Number:\"))\n",
    "ip=ip+int(str(ip)[::-1])\n",
    "while(palindrome(ip)):\n",
    "    ip=ip+int(str(ip)[::-1])\n",
    "print(ip)"
   ]
  },
  {
   "cell_type": "code",
   "execution_count": 65,
   "metadata": {},
   "outputs": [
    {
     "name": "stdout",
     "output_type": "stream",
     "text": [
      "Enter the Number:1234\n",
      "4\n"
     ]
    }
   ],
   "source": [
    "# ........................................COUNTING NUMBERS IN A DIGIT........................................................\n",
    "\n",
    "x=input(\"Enter the Number:\")\n",
    "c=0\n",
    "for i in x:\n",
    "    c +=1\n",
    "print(c)"
   ]
  },
  {
   "cell_type": "code",
   "execution_count": 94,
   "metadata": {},
   "outputs": [
    {
     "name": "stdout",
     "output_type": "stream",
     "text": [
      "apple@#$\n",
      "['$', '#', '@', 'e', 'l', 'p', 'p', 'a']\n",
      "$#@elppa\n"
     ]
    }
   ],
   "source": [
    "#.............................................Reverse the string..........................................................\n",
    "\n",
    "import re\n",
    "string=input()\n",
    "string_list=re.findall(\"[a-zA-Z!@#$%^&*()]\",string)\n",
    "string_list.reverse()\n",
    "print(string_list)\n",
    "print(''.join(string_list))\n",
    "        "
   ]
  },
  {
   "cell_type": "code",
   "execution_count": 75,
   "metadata": {},
   "outputs": [
    {
     "name": "stdout",
     "output_type": "stream",
     "text": [
      "sdfgh#@#23456\n",
      "['#', '@', '#', 'h', 'g', 'f', 'd', 's']\n",
      "#@#hg#@#fds\n"
     ]
    }
   ],
   "source": [
    "#..........................Reverse the string and place the special characters in the same place...............................\n",
    "\n",
    "import re\n",
    "string=input()\n",
    "string_list=re.findall(\"[a-zA-Z!@#$%^&*()]\",string)\n",
    "string_list.reverse()\n",
    "print(string_list)\n",
    "for i in range(len(string)):\n",
    "    if(string[i]=='#' or string[i]=='@'):\n",
    "        string_list.insert(i,string[i])\n",
    "print(''.join(string_list))\n",
    "        "
   ]
  },
  {
   "cell_type": "code",
   "execution_count": 81,
   "metadata": {},
   "outputs": [
    {
     "name": "stdout",
     "output_type": "stream",
     "text": [
      "Enter the number:1478963\n",
      "1793\n",
      "486\n",
      "square of that in list form is: ['16', '64', '36']\n",
      "Square of that number is: 166436\n",
      "OTP: 1664\n"
     ]
    }
   ],
   "source": [
    "#....................................................InfyTQ Problem............................................................\n",
    "\n",
    "x=input(\"Enter the number:\")\n",
    "s=j=z=d=''\n",
    "c=e=0\n",
    "a=[]\n",
    "\n",
    "for i in x:                                    # Calculating the index values\n",
    "    if c%2==0:\n",
    "        s=s+i\n",
    "        c +=1\n",
    "    else:\n",
    "        j=j+i\n",
    "        c +=1\n",
    "print(s)\n",
    "print(j)\n",
    "\n",
    "for k in j:                                    # Square of that number\n",
    "    z=int(k)*int(k)\n",
    "    a.append(str(z))\n",
    "print(\"square of that in list form is:\",a)\n",
    "    \n",
    "b=''.join(a)                                   # join the values\n",
    "print(\"Square of that number is:\",b)\n",
    "for i in str(b):\n",
    "    if (e==4):\n",
    "        break\n",
    "    else:\n",
    "        d=d+i\n",
    "        e+=1\n",
    "print(\"OTP:\",d)\n",
    "        \n",
    "    \n",
    "    "
   ]
  },
  {
   "cell_type": "code",
   "execution_count": 82,
   "metadata": {},
   "outputs": [
    {
     "name": "stdout",
     "output_type": "stream",
     "text": [
      "Enter the number:1478963\n",
      "1664\n"
     ]
    }
   ],
   "source": [
    "#.............................................InfyTQ Problem....................................................................\n",
    "\n",
    "number=input(\"Enter the number:\")\n",
    "length=len(number)\n",
    "OTP=''\n",
    "for odd in range(1,length,2):\n",
    "    OTP +=str(int(number[odd])**2)\n",
    "print(OTP[0:4])"
   ]
  },
  {
   "cell_type": "code",
   "execution_count": 54,
   "metadata": {},
   "outputs": [
    {
     "name": "stdout",
     "output_type": "stream",
     "text": [
      "({[]})\n",
      "5\n"
     ]
    }
   ],
   "source": [
    "def validator(string):\n",
    "    stack=[]\n",
    "    count=0\n",
    "    for b in string:\n",
    "        if (b=='{' or b=='[' or b=='('):\n",
    "            stack.append(b)\n",
    "            count +=1\n",
    "            continue\n",
    "        if(len(stack)==0):                       # stack is not balanced\n",
    "            return count +1\n",
    "        x=stack.pop()                     \n",
    "        if(b==']' and x=='['):\n",
    "            count +=1\n",
    "        elif(b=='{' and b=='}'):\n",
    "            count +=1\n",
    "        elif(b=='(' and b==')'):\n",
    "            count +=1\n",
    "        else:\n",
    "            return count+1\n",
    "    if(len(stack)==0):\n",
    "        return 0\n",
    "    else:\n",
    "        return count\n",
    "string=input()\n",
    "print(validator(string))"
   ]
  },
  {
   "cell_type": "code",
   "execution_count": 74,
   "metadata": {},
   "outputs": [
    {
     "name": "stdout",
     "output_type": "stream",
     "text": [
      "[11, 22, 33]\n"
     ]
    }
   ],
   "source": [
    "#..................python program to perform list of Arithmetic operations......................................................\n",
    "\n",
    "Numlist1 = [10,20,30]\n",
    "Numlist2 = [1,2,3]\n",
    "Numlist3 = []\n",
    "for i in range(len(Numlist1)): \n",
    "    Numlist3.append(Numlist1[i] + Numlist2[i])\n",
    "print(Numlist3)"
   ]
  },
  {
   "cell_type": "code",
   "execution_count": 71,
   "metadata": {},
   "outputs": [
    {
     "name": "stdout",
     "output_type": "stream",
     "text": [
      "\n",
      " The addition: [11, 22, 33]\n",
      "\n",
      " The subtraction: [9, 18, 27]\n",
      "\n",
      " The multiplication: [10, 40, 90]\n",
      "\n",
      " The division: [10, 10, 10]\n",
      "\n",
      " The exponential: [10, 400, 27000]\n"
     ]
    }
   ],
   "source": [
    "#..................python program to perform list of Arithmetic operations......................................................\n",
    "\n",
    "list1 = [10,20,30]\n",
    "list2 = [1,2,3]\n",
    "add = []\n",
    "sub = []\n",
    "mul = []\n",
    "div = []\n",
    "exp = []\n",
    "\n",
    "for i in range(len(list1)):\n",
    "    add.append(list1[i] + list2[i])\n",
    "    sub.append(list1[i] - list2[i])\n",
    "    mul.append(list1[i] * list2[i])\n",
    "    div.append(list1[i] // list2[i])\n",
    "    exp.append(list1[i] ** list2[i])\n",
    "print(\"\\n The addition:\",add)\n",
    "print(\"\\n The subtraction:\",sub)\n",
    "print(\"\\n The multiplication:\",mul)\n",
    "print(\"\\n The division:\",div)\n",
    "print(\"\\n The exponential:\",exp)"
   ]
  },
  {
   "cell_type": "code",
   "execution_count": 80,
   "metadata": {},
   "outputs": [
    {
     "name": "stdout",
     "output_type": "stream",
     "text": [
      "asdffffffffffffffffffdsa\n",
      "1\n"
     ]
    }
   ],
   "source": [
    "# Given a string s,find length of the longest prefix which is also suffix.The prefix and suffix should not be overlap\n",
    "\n",
    "string=input()\n",
    "length=len(string)\n",
    "half=length//2\n",
    "for i in range(half,0,-1):\n",
    "    prefix=string[0:i]\n",
    "    suffix=string[length-i:length]\n",
    "    if(prefix==suffix):\n",
    "        print(len(prefix))\n",
    "        break"
   ]
  },
  {
   "cell_type": "code",
   "execution_count": 9,
   "metadata": {},
   "outputs": [
    {
     "name": "stdout",
     "output_type": "stream",
     "text": [
      "python is very easy\n",
      "Total no of words 4\n"
     ]
    }
   ],
   "source": [
    "#............................python program to count total number of words in a sentence........................................\n",
    "\n",
    "x=input()\n",
    "y=(x.split() or x.split('.'))\n",
    "#print(y)\n",
    "print(\"Total no of words\",len(y))"
   ]
  },
  {
   "cell_type": "code",
   "execution_count": 8,
   "metadata": {},
   "outputs": [
    {
     "name": "stdout",
     "output_type": "stream",
     "text": [
      "python is very easy\n",
      "Total no of words 4\n"
     ]
    }
   ],
   "source": [
    "#............................python program to count total number of words in a sentence........................................\n",
    "\n",
    "x=input()\n",
    "count=1\n",
    "for i in range(len(x)):\n",
    "    if (x[i]==' ' or x[i]=='\\n' or x[i]=='\\t'):\n",
    "        count +=1\n",
    "print(\"Total no of words\",count)"
   ]
  }
 ],
 "metadata": {
  "kernelspec": {
   "display_name": "Python 3",
   "language": "python",
   "name": "python3"
  },
  "language_info": {
   "codemirror_mode": {
    "name": "ipython",
    "version": 3
   },
   "file_extension": ".py",
   "mimetype": "text/x-python",
   "name": "python",
   "nbconvert_exporter": "python",
   "pygments_lexer": "ipython3",
   "version": "3.7.4"
  }
 },
 "nbformat": 4,
 "nbformat_minor": 2
}
